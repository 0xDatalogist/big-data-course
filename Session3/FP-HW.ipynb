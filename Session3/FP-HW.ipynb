{
  "nbformat": 4,
  "nbformat_minor": 0,
  "metadata": {
    "kernelspec": {
      "name": "python3",
      "display_name": "Python 3"
    },
    "colab": {
      "provenance": []
    }
  },
  "cells": [
    {
      "cell_type": "markdown",
      "metadata": {
        "id": "2hYb-nDXYGrs"
      },
      "source": [
        "# Assignment on Programming Techniques for Big Data\n",
        "\n",
        "Functional programming is the basis of most modern Big Data processing systems.\n",
        "Before going forward to the course, it is important to master data processing\n",
        "techniques using a functional programming style. In this assignment, your task \n",
        "is to train yourselves in thinking in a functional way when processing data. \n",
        "\n",
        "Many of the the tasks below are easy, but some are not and require many\n",
        "iterations (and extensive testing!) to get right. For some of them, you\n",
        "can find ready-made solutions on the internet. Even though it may be tempting,\n",
        "I advise you against copying and pasting them here, as you will regret it\n",
        "later on in the course.\n",
        "\n",
        "\n",
        "This assignment has a total of *115* points. Your grade is calculated with `min(points/10, 10)`, i.e. you only need 100 points for a 10. A few notes:\n",
        "\n",
        "* For each function you define, you also need to define at least one working example.\n",
        "* Do not change the given function signatures.\n",
        "* Use functional programming for every question (besides the first section)."
      ]
    },
    {
      "cell_type": "markdown",
      "metadata": {
        "id": "dgqlTnLiYGrv"
      },
      "source": [
        "## Foundations of functional programming\n",
        "\n",
        "In this part you will implement core functions that are vital to functional programming."
      ]
    },
    {
      "cell_type": "markdown",
      "metadata": {
        "id": "vjbi0tQXYGrw"
      },
      "source": [
        "**T** (5pts): Implement `map` using iteration for lists/arrays"
      ]
    },
    {
      "cell_type": "code",
      "metadata": {
        "id": "KsHsUVdJ_VzM"
      },
      "source": [
        "from inspect import signature"
      ],
      "execution_count": null,
      "outputs": []
    },
    {
      "cell_type": "code",
      "metadata": {
        "id": "7Nt6j6b0YGrx"
      },
      "source": [
        "def map(func, xs):\n",
        "  for item in xs:\n",
        "    yield func(item)\n",
        "    \n",
        "list(map(lambda x: x*2, range(7)))\n"
      ],
      "execution_count": null,
      "outputs": []
    },
    {
      "cell_type": "code",
      "source": [
        "def map(func, xs):\n",
        "  return (func(x) for x in xs)\n",
        "    \n",
        "list(map(lambda x: x*2, range(7)))"
      ],
      "metadata": {
        "id": "53Ak36Tcg_nQ"
      },
      "execution_count": null,
      "outputs": []
    },
    {
      "cell_type": "markdown",
      "metadata": {
        "id": "LctOljogYGry"
      },
      "source": [
        "**T** (5pts): Implement `filter` using iteration for lists/arrays"
      ]
    },
    {
      "cell_type": "code",
      "metadata": {
        "id": "AQRSXDDaYGry"
      },
      "source": [
        "def filter(func, xs):\n",
        "  for item in xs:\n",
        "    if func(item):\n",
        "      yield item\n",
        "\n",
        "list(filter(lambda x: x % 2 == 0, range(7)))"
      ],
      "execution_count": null,
      "outputs": []
    },
    {
      "cell_type": "code",
      "source": [
        "def filter(func, xs):\n",
        "  return (x for x in xs if func(x))\n",
        "\n",
        "list(filter(lambda x: x % 2 == 0, range(7)))"
      ],
      "metadata": {
        "id": "cDJPA4RjhEnV"
      },
      "execution_count": null,
      "outputs": []
    },
    {
      "cell_type": "markdown",
      "metadata": {
        "id": "Iz-xEoyOYGrz"
      },
      "source": [
        "**T** (5pts): Implement `reduceR` using iteration for lists/arrays"
      ]
    },
    {
      "cell_type": "code",
      "metadata": {
        "id": "VQlP5MqBYGrz"
      },
      "source": [
        "def reduceR(func, xs, init):\n",
        "  if len(xs) == 0:\n",
        "    if len(signature(func).parameters) < 2:\n",
        "      return func(init)\n",
        "    else:\n",
        "      return init\n",
        "  result = init\n",
        "  for item in xs:\n",
        "    result = func(item, result)\n",
        "  return result\n",
        "\n",
        "reduceR(lambda x, y: x-y, range(7), 0)"
      ],
      "execution_count": null,
      "outputs": []
    },
    {
      "cell_type": "markdown",
      "metadata": {
        "id": "EF199W3oYGr0"
      },
      "source": [
        "**T** (5pts): Implement a function `flatten(xs: [[A]]): [A]` that converts a list of \n",
        "lists into a list formed by the elements of these lists. For example:\n",
        "\n",
        "```python\n",
        ">>> a = [[1,2],[2,3],[3,[4]]]\n",
        ">>> flatten(a)\n",
        "[1,2,2,3,3,[4]]\n",
        "```"
      ]
    },
    {
      "cell_type": "code",
      "metadata": {
        "id": "-nLS8djbYGr0"
      },
      "source": [
        "def flatten(xss):\n",
        "  for item in xss:\n",
        "    for sub_item in item:\n",
        "      yield sub_item\n",
        "\n",
        "\n",
        "list(flatten([[1,2,3],[4,5], [7,[8,9]]]))"
      ],
      "execution_count": null,
      "outputs": []
    },
    {
      "cell_type": "code",
      "source": [
        "def flatten(xss):\n",
        "  return (sub_item for item in xss for sub_item in item)\n",
        "\n",
        "\n",
        "list(flatten([[1,2,3],[4,5], [7,[8,9]]]))"
      ],
      "metadata": {
        "id": "GQKvB9OrhJ9t"
      },
      "execution_count": null,
      "outputs": []
    },
    {
      "cell_type": "markdown",
      "metadata": {
        "id": "C55ekuH1YGr1"
      },
      "source": [
        "## More basic functions\n",
        "\n",
        "In every implementation from now (also in next steps)on you should reuse at least one of your answers to an earlier question."
      ]
    },
    {
      "cell_type": "markdown",
      "metadata": {
        "id": "qFi-k2OVYGr1"
      },
      "source": [
        "**T** (5pts): Implement `reduceL` by reusing `reduceR`"
      ]
    },
    {
      "cell_type": "code",
      "metadata": {
        "id": "f7QltkvPYGr1"
      },
      "source": [
        "def reduceL(func, xs, init):\n",
        "  return reduceR(lambda x,y:func(y,x), xs[::-1], init)\n",
        "\n",
        "\n",
        "reduceL(lambda x, y: x-y, range(7),0)"
      ],
      "execution_count": null,
      "outputs": []
    },
    {
      "cell_type": "markdown",
      "metadata": {
        "id": "mBbamDSlYGr2"
      },
      "source": [
        "**T** (10pts): Implement `group_by` by reusing `reduceL`."
      ]
    },
    {
      "cell_type": "code",
      "source": [
        "def group_by(classifier, xs):\n",
        "  return reduceL(lambda x,y: {**x,**{classifier(y):[*x.get(classifier(y),[]),y]}}  ,xs,{})\n",
        "group_by(lambda x: \"even\" if x % 2 == 0 else \"odd\", range(10))"
      ],
      "metadata": {
        "id": "DqOxaD4bmPtj"
      },
      "execution_count": null,
      "outputs": []
    },
    {
      "cell_type": "markdown",
      "metadata": {
        "id": "xAMm0eStYGr2"
      },
      "source": [
        "## Simple data processing\n",
        "\n"
      ]
    },
    {
      "cell_type": "markdown",
      "metadata": {
        "id": "df26DTWtYGr3"
      },
      "source": [
        "**T** (5pts): Implement `distinct` using `reduceL`. Also provide its function signature."
      ]
    },
    {
      "cell_type": "code",
      "metadata": {
        "id": "ycmyJGf2YGr3"
      },
      "source": [
        "# distinct(xs:[A]): [A]\n",
        "def distinct(xs):\n",
        "    yield from set(xs)\n",
        "\n",
        "a = [1,2,3,1,2,3,4,5,6,5,4,3,2,1]\n",
        "list(distinct(a))"
      ],
      "execution_count": null,
      "outputs": []
    },
    {
      "cell_type": "markdown",
      "metadata": {
        "id": "zxAb6G35YGr3"
      },
      "source": [
        "**T** (5pts): Implement `flatmap` and provide its function signature."
      ]
    },
    {
      "cell_type": "code",
      "metadata": {
        "scrolled": true,
        "id": "fjEXKgv-YGr4"
      },
      "source": [
        "# flatmap(func: A -> [B], [A]): [B]\n",
        "def flatmap(func, xs):\n",
        "  return flatten(map(func,xs))\n",
        "\n",
        "list(flatmap(lambda x: range(x), range(5)))"
      ],
      "execution_count": null,
      "outputs": []
    },
    {
      "cell_type": "markdown",
      "metadata": {
        "id": "5JBVh2qvYGr4"
      },
      "source": [
        "**T** (5pts): Implement `max(xs: [Integer]): Integer` that finds the largest value in `xs`. You can assume the list is non-empty."
      ]
    },
    {
      "cell_type": "code",
      "metadata": {
        "id": "dolARtSWYGr4"
      },
      "source": [
        "def max(xs):\n",
        "  max_item = xs[0]\n",
        "  for i in xs:\n",
        "    if i > max_item:\n",
        "      max_item = i\n",
        "  return max_item\n",
        "\n",
        "max([1,59,42,27,38])"
      ],
      "execution_count": null,
      "outputs": []
    },
    {
      "cell_type": "code",
      "source": [
        "def max(xs):\n",
        "  return reduceL(lambda x,y:x if x>y else y,xs,xs[0])\n",
        "\n",
        "max([1,59,42,27,38])"
      ],
      "metadata": {
        "id": "rMVXguURhzgw"
      },
      "execution_count": null,
      "outputs": []
    },
    {
      "cell_type": "markdown",
      "metadata": {
        "id": "aN3FpbJZYGr5"
      },
      "source": [
        "## Higher-order functions\n",
        "\n",
        "\n",
        "**T** (10pts): Implement a function called `drop_while(f: A -> Boolean, xs: [A]) : [A]` \n",
        "that drops the longest prefix of elements from `xs` that satisfy `f`.\n",
        "\n",
        "```python\n",
        ">>> a = [1,2,3,4,5,6]\n",
        ">>> dropWhile(lambda x: x <= 3, a)\n",
        "[4,5,6]\n",
        "```"
      ]
    },
    {
      "cell_type": "code",
      "metadata": {
        "id": "yDk1HahcYGr5"
      },
      "source": [
        "def drop_while(func, xs):\n",
        "  xs = iter(xs)\n",
        "  for x in xs:\n",
        "    if not func(x):\n",
        "        yield x\n",
        "        break\n",
        "  for x in xs:\n",
        "    yield x\n",
        "\n",
        "\n",
        "list(drop_while(lambda x: x <= 3, [1,2,1,3,5,3,1,4,1,5,6]))"
      ],
      "execution_count": null,
      "outputs": []
    },
    {
      "cell_type": "markdown",
      "metadata": {
        "id": "aiZapNp4YGr5"
      },
      "source": [
        "**T** (10pts): Implement a function `zip(xs: [A], ys: [B]): List[(A,B)]` that returns a list formed from this list and another list by combining the corresponding elements in pairs. If one of the two lists is longer \n",
        "than the other, its remaining elements are ignored. \n",
        "\n",
        "```python\n",
        ">>> a = [1,2,3,4]\n",
        ">>> b = [a,b,c,d,e]\n",
        ">>> zip(a,b)\n",
        "[(1, 'a'), (2, 'b'), (3, 'c'), (4,'d')]\n",
        "```"
      ]
    },
    {
      "cell_type": "code",
      "metadata": {
        "scrolled": true,
        "id": "GA_pT_4kYGr6"
      },
      "source": [
        "def zip(xs, ys):\n",
        "  result_list = []\n",
        "  for i in range(min([len(xs),len(ys)])):\n",
        "    result_list.append((xs[i],ys[i]))\n",
        "  yield from result_list\n",
        "      \n",
        "\n",
        "    \n",
        "a = [2,3,4]\n",
        "b = ['a','b','c','d']\n",
        "list(zip(a,b))"
      ],
      "execution_count": null,
      "outputs": []
    },
    {
      "cell_type": "code",
      "source": [
        "def min(xs):\n",
        "    return reduceL(lambda x,y:x if x<y else y,xs,xs[0])\n",
        "\n",
        "def zip(xs, ys):\n",
        "  return map(lambda i:(xs[i],ys[i]),range(min([len(xs),len(ys)])))\n",
        "      \n",
        "\n",
        "    \n",
        "a = [2,3,4]\n",
        "b = ['a','b','c','d']\n",
        "list(zip(a,b))"
      ],
      "metadata": {
        "id": "N-V9HDE4ktFh"
      },
      "execution_count": null,
      "outputs": []
    },
    {
      "cell_type": "markdown",
      "metadata": {
        "id": "bkT4ZX3LYGr6"
      },
      "source": [
        "**T** (10pts): Implement a function \n",
        "`scanL(f: (acc: B, x: A) -> B, xs: [A], init: B) -> [B]`\n",
        "that works like `reduceL` but instead of producing one final result, it also\n",
        "returns all the intermediate results.\n",
        "\n",
        "```python\n",
        ">>> a = [2,3,4]\n",
        ">>> scanL(a, 0, lambda x, y: x + y)\n",
        "[0, 2, 5, 9]\n",
        "```"
      ]
    },
    {
      "cell_type": "code",
      "metadata": {
        "id": "6k9WSUqkYGr6"
      },
      "source": [
        "def scanL(func, xs, init):\n",
        "  result_list = [init]\n",
        "  for i in range(len(xs)):\n",
        "    result_list.append(reduceL(func,xs[:i+1],init))\n",
        "  return result_list\n",
        "    \n",
        "scanL(lambda x, y: x + y, [2,3,4], 0)"
      ],
      "execution_count": null,
      "outputs": []
    },
    {
      "cell_type": "code",
      "source": [
        "def scanL(func, xs, init):\n",
        "  yield init\n",
        "  for x in xs:\n",
        "    init = func(init, x)\n",
        "    yield init\n",
        "list(scanL(lambda x, y: x + y, [2,3,4], 0))"
      ],
      "metadata": {
        "id": "N_BT4x8FlOpc"
      },
      "execution_count": null,
      "outputs": []
    },
    {
      "cell_type": "code",
      "source": [
        "import functools\n",
        "import operator\n",
        "\n",
        "def foldl(func, acc, xs):\n",
        "  return functools.reduce(func, xs, acc)\n",
        "foldl(lambda x, y: x-y,0, range(7))"
      ],
      "metadata": {
        "id": "8LCcRcFHqXcG"
      },
      "execution_count": null,
      "outputs": []
    },
    {
      "cell_type": "code",
      "source": [
        "import functools\n",
        "import operator\n",
        "\n",
        "def flip(func):\n",
        "    @functools.wraps(func)\n",
        "    def newfunc(x, y):\n",
        "        return func(y, x)\n",
        "    return newfunc\n",
        "\n",
        "def foldr(func, acc, xs):\n",
        "    return functools.reduce(flip(func), reversed(xs), acc)\n",
        "\n",
        "foldr(lambda x, y: x-y,0, range(7))"
      ],
      "metadata": {
        "id": "7kCLxaHJo8GX"
      },
      "execution_count": null,
      "outputs": []
    },
    {
      "cell_type": "code",
      "source": [],
      "metadata": {
        "id": "4domsYOhJPf8"
      },
      "execution_count": null,
      "outputs": []
    }
  ]
}