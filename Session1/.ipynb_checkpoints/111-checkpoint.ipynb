{
  "nbformat": 4,
  "nbformat_minor": 0,
  "metadata": {
    "kernelspec": {
      "display_name": "Python 3",
      "language": "python",
      "name": "python3"
    },
    "language_info": {
      "codemirror_mode": {
        "name": "ipython",
        "version": 3
      },
      "file_extension": ".py",
      "mimetype": "text/x-python",
      "name": "python",
      "nbconvert_exporter": "python",
      "pygments_lexer": "ipython3",
      "version": "3.8.5"
    },
    "colab": {
      "name": "python_basic.ipynb",
      "provenance": [],
      "collapsed_sections": []
    }
  },
  "cells": [
    {
      "cell_type": "markdown",
      "metadata": {
        "id": "88a1ACH-QXGC"
      },
      "source": [
        "<a name=\"top\"></a>\n",
        "# Python Quick Review\n",
        "\n",
        "**Related:** [GitHub repository](https://github.com/njiix/big-data-course)\n",
        "\n",
        "## Table of contents\n",
        "\n",
        "1. [Imports](#imports)\n",
        "2. [Data Types](#data-types)\n",
        "3. [Comparisons and Boolean Operations](#cabo)\n",
        "4. [Conditional Statements](#cs)\n",
        "5. [Lists](#lists)\n",
        "6. [Tuples](#tuples)\n",
        "7. [Strings](#strings)\n",
        "8. [Dictionaries](#dict)\n",
        "9. [Sets](#sets)\n",
        "10. [For Loops and While Loops](#loop)\n",
        "11. [Defining Functions](#func)\n",
        "12. [Object Oriented Programming](#oop)"
      ]
    },
    {
      "cell_type": "markdown",
      "metadata": {
        "id": "OWt3gsP3QXGI"
      },
      "source": [
        "<a name=\"imports\"></a>\n",
        "## 1. Imports"
      ]
    },
    {
      "cell_type": "code",
      "metadata": {
        "jupyter": {
          "outputs_hidden": false
        },
        "id": "82_TJbi9QXGJ"
      },
      "source": [
        "# 'generic import' of math module\n",
        "import math\n",
        "math.sqrt(25)"
      ],
      "execution_count": null,
      "outputs": []
    },
    {
      "cell_type": "code",
      "metadata": {
        "jupyter": {
          "outputs_hidden": false
        },
        "id": "HILQyi9aQXGL"
      },
      "source": [
        "# import a function\n",
        "from math import sqrt\n",
        "sqrt(25)    # no longer have to reference the module"
      ],
      "execution_count": null,
      "outputs": []
    },
    {
      "cell_type": "code",
      "metadata": {
        "id": "nshoeC2_QXGL"
      },
      "source": [
        "# import multiple functions at once\n",
        "from math import cos, floor"
      ],
      "execution_count": null,
      "outputs": []
    },
    {
      "cell_type": "code",
      "metadata": {
        "id": "wunOZk9qQXGM"
      },
      "source": [
        "# import all functions in a module (generally discouraged)\n",
        "from csv import *"
      ],
      "execution_count": null,
      "outputs": []
    },
    {
      "cell_type": "code",
      "metadata": {
        "id": "faUMfxuYQXGN"
      },
      "source": [
        "# define an alias\n",
        "import datetime as dt"
      ],
      "execution_count": null,
      "outputs": []
    },
    {
      "cell_type": "code",
      "metadata": {
        "jupyter": {
          "outputs_hidden": false
        },
        "id": "6kXWvU49QXGO"
      },
      "source": [
        "# show all functions in math module\n",
        "print(dir(math))"
      ],
      "execution_count": null,
      "outputs": []
    },
    {
      "cell_type": "markdown",
      "metadata": {
        "id": "Pibucib-QXGP"
      },
      "source": [
        "[Back to top](#top)"
      ]
    },
    {
      "cell_type": "markdown",
      "metadata": {
        "id": "26IAwcrMQXGP"
      },
      "source": [
        "<a name=\"data-types\"></a>\n",
        "## 2. Data Types\n",
        "\n",
        "**Determine the type of an object:**"
      ]
    },
    {
      "cell_type": "code",
      "metadata": {
        "jupyter": {
          "outputs_hidden": false
        },
        "id": "tS_vsGAdQXGQ"
      },
      "source": [
        "type(2)"
      ],
      "execution_count": null,
      "outputs": []
    },
    {
      "cell_type": "code",
      "metadata": {
        "jupyter": {
          "outputs_hidden": false
        },
        "id": "UBeA_s01QXGQ"
      },
      "source": [
        "type(2.0)"
      ],
      "execution_count": null,
      "outputs": []
    },
    {
      "cell_type": "code",
      "metadata": {
        "jupyter": {
          "outputs_hidden": false
        },
        "id": "c2cCeAySQXGR"
      },
      "source": [
        "type('two')"
      ],
      "execution_count": null,
      "outputs": []
    },
    {
      "cell_type": "code",
      "metadata": {
        "jupyter": {
          "outputs_hidden": false
        },
        "id": "Y0Iat46XQXGR"
      },
      "source": [
        "type(True)"
      ],
      "execution_count": null,
      "outputs": []
    },
    {
      "cell_type": "code",
      "metadata": {
        "jupyter": {
          "outputs_hidden": false
        },
        "id": "fuR9KNPpQXGS"
      },
      "source": [
        "type(None)"
      ],
      "execution_count": null,
      "outputs": []
    },
    {
      "cell_type": "markdown",
      "metadata": {
        "id": "3saX9EDAQXGS"
      },
      "source": [
        "**Check if an object is of a given type:**"
      ]
    },
    {
      "cell_type": "code",
      "metadata": {
        "jupyter": {
          "outputs_hidden": false
        },
        "id": "6kZ3RnfPQXGS"
      },
      "source": [
        "isinstance(2.0, int)"
      ],
      "execution_count": null,
      "outputs": []
    },
    {
      "cell_type": "code",
      "metadata": {
        "jupyter": {
          "outputs_hidden": false
        },
        "id": "kW_dq7WuQXGT"
      },
      "source": [
        "isinstance(2.0, (int, float))"
      ],
      "execution_count": null,
      "outputs": []
    },
    {
      "cell_type": "markdown",
      "metadata": {
        "id": "ftW1B0qxQXGT"
      },
      "source": [
        "**Convert an object to a given type:**"
      ]
    },
    {
      "cell_type": "code",
      "metadata": {
        "jupyter": {
          "outputs_hidden": false
        },
        "id": "xEeIzSOiQXGT"
      },
      "source": [
        "float(2)"
      ],
      "execution_count": null,
      "outputs": []
    },
    {
      "cell_type": "code",
      "metadata": {
        "jupyter": {
          "outputs_hidden": false
        },
        "id": "Acvf7XbtQXGU"
      },
      "source": [
        "int(2.9)"
      ],
      "execution_count": null,
      "outputs": []
    },
    {
      "cell_type": "code",
      "metadata": {
        "jupyter": {
          "outputs_hidden": false
        },
        "id": "Axgvhu7PQXGU"
      },
      "source": [
        "str(2.9)"
      ],
      "execution_count": null,
      "outputs": []
    },
    {
      "cell_type": "markdown",
      "metadata": {
        "id": "8KEa-saHQXGU"
      },
      "source": [
        "**Zero, `None`, and empty containers are converted to `False`:**"
      ]
    },
    {
      "cell_type": "code",
      "metadata": {
        "jupyter": {
          "outputs_hidden": false
        },
        "id": "gw0wLivIQXGU"
      },
      "source": [
        "bool(0)"
      ],
      "execution_count": null,
      "outputs": []
    },
    {
      "cell_type": "code",
      "metadata": {
        "jupyter": {
          "outputs_hidden": false
        },
        "id": "HgSTkvQkQXGV"
      },
      "source": [
        "bool(None)"
      ],
      "execution_count": null,
      "outputs": []
    },
    {
      "cell_type": "code",
      "metadata": {
        "jupyter": {
          "outputs_hidden": false
        },
        "id": "NIVskAOZQXGV"
      },
      "source": [
        "bool('')    # empty string"
      ],
      "execution_count": null,
      "outputs": []
    },
    {
      "cell_type": "code",
      "metadata": {
        "jupyter": {
          "outputs_hidden": false
        },
        "id": "aQDIMoRAQXGV"
      },
      "source": [
        "bool([])    # empty list"
      ],
      "execution_count": null,
      "outputs": []
    },
    {
      "cell_type": "code",
      "metadata": {
        "jupyter": {
          "outputs_hidden": false
        },
        "id": "Q5t-ZPY7QXGV"
      },
      "source": [
        "bool({})    # empty dictionary"
      ],
      "execution_count": null,
      "outputs": []
    },
    {
      "cell_type": "markdown",
      "metadata": {
        "id": "GxHoQdEcQXGW"
      },
      "source": [
        "**Non-empty containers and non-zeros are converted to `True`:**"
      ]
    },
    {
      "cell_type": "code",
      "metadata": {
        "jupyter": {
          "outputs_hidden": false
        },
        "id": "H5j_egysQXGW"
      },
      "source": [
        "bool(2)"
      ],
      "execution_count": null,
      "outputs": []
    },
    {
      "cell_type": "code",
      "metadata": {
        "jupyter": {
          "outputs_hidden": false
        },
        "id": "0aSoV8uvQXGW"
      },
      "source": [
        "bool('two')"
      ],
      "execution_count": null,
      "outputs": []
    },
    {
      "cell_type": "code",
      "metadata": {
        "jupyter": {
          "outputs_hidden": false
        },
        "id": "Vy3qwsndQXGW"
      },
      "source": [
        "bool([2])"
      ],
      "execution_count": null,
      "outputs": []
    },
    {
      "cell_type": "markdown",
      "metadata": {
        "id": "y52fxhZkQXGX"
      },
      "source": [
        "[Back to top](#top)"
      ]
    },
    {
      "cell_type": "markdown",
      "metadata": {
        "id": "bKcj7iJWQXGX"
      },
      "source": [
        "<a name=\"math\"></a>\n",
        "## 3. Math"
      ]
    },
    {
      "cell_type": "code",
      "metadata": {
        "jupyter": {
          "outputs_hidden": false
        },
        "id": "1sQGQM_pQXGX"
      },
      "source": [
        "10 + 4"
      ],
      "execution_count": null,
      "outputs": []
    },
    {
      "cell_type": "code",
      "metadata": {
        "jupyter": {
          "outputs_hidden": false
        },
        "id": "OOsZbCuMQXGX"
      },
      "source": [
        "10 - 4"
      ],
      "execution_count": null,
      "outputs": []
    },
    {
      "cell_type": "code",
      "metadata": {
        "jupyter": {
          "outputs_hidden": false
        },
        "id": "9FbVFZ3jQXGY"
      },
      "source": [
        "10 * 4"
      ],
      "execution_count": null,
      "outputs": []
    },
    {
      "cell_type": "code",
      "metadata": {
        "jupyter": {
          "outputs_hidden": false
        },
        "id": "jZr34AXrQXGY"
      },
      "source": [
        "10 ** 4    # exponent"
      ],
      "execution_count": null,
      "outputs": []
    },
    {
      "cell_type": "code",
      "metadata": {
        "jupyter": {
          "outputs_hidden": false
        },
        "id": "wHgVaJuWQXGY"
      },
      "source": [
        "5 % 4      # modulo - computes the remainder"
      ],
      "execution_count": null,
      "outputs": []
    },
    {
      "cell_type": "code",
      "metadata": {
        "jupyter": {
          "outputs_hidden": false
        },
        "scrolled": true,
        "id": "VOEw1wdMQXGY"
      },
      "source": [
        "# Python 2: returns 2 (because both types are 'int')\n",
        "# Python 3: returns 2.5\n",
        "10 / 4"
      ],
      "execution_count": null,
      "outputs": []
    },
    {
      "cell_type": "code",
      "metadata": {
        "jupyter": {
          "outputs_hidden": false
        },
        "scrolled": true,
        "id": "SpTOpLGaQXGY"
      },
      "source": [
        "10 / float(4)"
      ],
      "execution_count": null,
      "outputs": []
    },
    {
      "cell_type": "code",
      "metadata": {
        "id": "7Fc887CTQXGZ"
      },
      "source": [
        "# force '/' in Python 2 to perform 'true division' (unnecessary in Python 3)\n",
        "from __future__ import division"
      ],
      "execution_count": null,
      "outputs": []
    },
    {
      "cell_type": "code",
      "metadata": {
        "jupyter": {
          "outputs_hidden": false
        },
        "id": "cuflFZ8dQXGZ"
      },
      "source": [
        "10 / 4     # true division"
      ],
      "execution_count": null,
      "outputs": []
    },
    {
      "cell_type": "code",
      "metadata": {
        "jupyter": {
          "outputs_hidden": false
        },
        "id": "8qQwvZiAQXGZ"
      },
      "source": [
        "10 // 4    # floor division"
      ],
      "execution_count": null,
      "outputs": []
    },
    {
      "cell_type": "markdown",
      "metadata": {
        "id": "OhBh_iecQXGZ"
      },
      "source": [
        "[Back to top](#top)"
      ]
    },
    {
      "cell_type": "markdown",
      "metadata": {
        "id": "cSmSi5wVQXGZ"
      },
      "source": [
        "<a name=\"cabo\"></a>\n",
        "## 4. Comparisons and Boolean Operations"
      ]
    },
    {
      "cell_type": "markdown",
      "metadata": {
        "id": "fCQ-kjiUQXGa"
      },
      "source": [
        "**Assignment statement:**"
      ]
    },
    {
      "cell_type": "code",
      "metadata": {
        "id": "_k8ArRyfQXGa"
      },
      "source": [
        "x = 5"
      ],
      "execution_count": null,
      "outputs": []
    },
    {
      "cell_type": "markdown",
      "metadata": {
        "id": "nQZnMNT9QXGa"
      },
      "source": [
        "**Comparisons:**"
      ]
    },
    {
      "cell_type": "code",
      "metadata": {
        "jupyter": {
          "outputs_hidden": false
        },
        "id": "1oN_MXVsQXGa"
      },
      "source": [
        "x > 3"
      ],
      "execution_count": null,
      "outputs": []
    },
    {
      "cell_type": "code",
      "metadata": {
        "jupyter": {
          "outputs_hidden": false
        },
        "id": "x2Fv-iU_QXGa"
      },
      "source": [
        "x >= 3"
      ],
      "execution_count": null,
      "outputs": []
    },
    {
      "cell_type": "code",
      "metadata": {
        "jupyter": {
          "outputs_hidden": false
        },
        "id": "CQQ9Za-7QXGb"
      },
      "source": [
        "x != 3"
      ],
      "execution_count": null,
      "outputs": []
    },
    {
      "cell_type": "code",
      "metadata": {
        "jupyter": {
          "outputs_hidden": false
        },
        "id": "KQIyl3sBQXGb"
      },
      "source": [
        "x == 5"
      ],
      "execution_count": null,
      "outputs": []
    },
    {
      "cell_type": "markdown",
      "metadata": {
        "id": "pBUmlKGTQXGb"
      },
      "source": [
        "**Boolean operations:**"
      ]
    },
    {
      "cell_type": "code",
      "metadata": {
        "jupyter": {
          "outputs_hidden": false
        },
        "id": "PiHkGVWDQXGb"
      },
      "source": [
        "5 > 3 and 6 > 3"
      ],
      "execution_count": null,
      "outputs": []
    },
    {
      "cell_type": "code",
      "metadata": {
        "jupyter": {
          "outputs_hidden": false
        },
        "id": "V4QRChvJQXGb"
      },
      "source": [
        "5 > 3 or 5 < 3"
      ],
      "execution_count": null,
      "outputs": []
    },
    {
      "cell_type": "code",
      "metadata": {
        "jupyter": {
          "outputs_hidden": false
        },
        "id": "VSIpP8NtQXGb"
      },
      "source": [
        "not False"
      ],
      "execution_count": null,
      "outputs": []
    },
    {
      "cell_type": "code",
      "metadata": {
        "jupyter": {
          "outputs_hidden": false
        },
        "id": "lAOEoH-4QXGc"
      },
      "source": [
        "False or not False and True     # evaluation order: not, and, or"
      ],
      "execution_count": null,
      "outputs": []
    },
    {
      "cell_type": "markdown",
      "metadata": {
        "id": "-QJbH7f5QXGc"
      },
      "source": [
        "[Back to top](#top)"
      ]
    },
    {
      "cell_type": "markdown",
      "metadata": {
        "id": "RXDK_MwxQXGc"
      },
      "source": [
        "<a name=\"cs\"></a>\n",
        "## 5. Conditional Statements"
      ]
    },
    {
      "cell_type": "code",
      "metadata": {
        "jupyter": {
          "outputs_hidden": false
        },
        "id": "DjSdGtDOQXGc"
      },
      "source": [
        "# if statement\n",
        "if x > 0:\n",
        "    print('positive')"
      ],
      "execution_count": null,
      "outputs": []
    },
    {
      "cell_type": "code",
      "metadata": {
        "jupyter": {
          "outputs_hidden": false
        },
        "id": "HAcdOl9rQXGd"
      },
      "source": [
        "# if/else statement\n",
        "if x > 0:\n",
        "    print('positive')\n",
        "else:\n",
        "    print('zero or negative')"
      ],
      "execution_count": null,
      "outputs": []
    },
    {
      "cell_type": "code",
      "metadata": {
        "jupyter": {
          "outputs_hidden": false
        },
        "id": "iqyR2LSWQXGd"
      },
      "source": [
        "# if/elif/else statement\n",
        "if x > 0:\n",
        "    print('positive')\n",
        "elif x == 0:\n",
        "    print('zero')\n",
        "else:\n",
        "    print('negative')"
      ],
      "execution_count": null,
      "outputs": []
    },
    {
      "cell_type": "code",
      "metadata": {
        "jupyter": {
          "outputs_hidden": false
        },
        "id": "OAWw4UkSQXGd"
      },
      "source": [
        "# single-line if statement (sometimes discouraged)\n",
        "if x > 0: print('positive')"
      ],
      "execution_count": null,
      "outputs": []
    },
    {
      "cell_type": "code",
      "metadata": {
        "jupyter": {
          "outputs_hidden": false
        },
        "id": "Fykafdl5QXGd"
      },
      "source": [
        "# single-line if/else statement (sometimes discouraged), known as a 'ternary operator'\n",
        "'positive' if x > 0 else 'zero or negative'"
      ],
      "execution_count": null,
      "outputs": []
    },
    {
      "cell_type": "markdown",
      "metadata": {
        "id": "wtxTKh1DQXGd"
      },
      "source": [
        "[Back to top](#top)"
      ]
    },
    {
      "cell_type": "markdown",
      "metadata": {
        "id": "VYupbe60QXGe"
      },
      "source": [
        "<a name=\"lists\"></a>\n",
        "## 6. Lists\n",
        "\n",
        "- **List properties:** ordered, iterable, mutable, can contain multiple data types"
      ]
    },
    {
      "cell_type": "code",
      "metadata": {
        "id": "kbOeSDPbQXGe"
      },
      "source": [
        "# create an empty list (two ways)\n",
        "empty_list = []\n",
        "empty_list = list()"
      ],
      "execution_count": null,
      "outputs": []
    },
    {
      "cell_type": "code",
      "metadata": {
        "id": "-Tp0HjxmQXGe"
      },
      "source": [
        "# create a list\n",
        "simpsons = ['homer', 'marge', 'bart']"
      ],
      "execution_count": null,
      "outputs": []
    },
    {
      "cell_type": "markdown",
      "metadata": {
        "id": "X2ZMUYTyQXGe"
      },
      "source": [
        "**Examine a list:**"
      ]
    },
    {
      "cell_type": "code",
      "metadata": {
        "jupyter": {
          "outputs_hidden": false
        },
        "id": "UW8y6ZSRQXGf"
      },
      "source": [
        "# print element 0\n",
        "simpsons[0]"
      ],
      "execution_count": null,
      "outputs": []
    },
    {
      "cell_type": "code",
      "metadata": {
        "jupyter": {
          "outputs_hidden": false
        },
        "id": "KOx03mGhQXGf"
      },
      "source": [
        "len(simpsons)"
      ],
      "execution_count": null,
      "outputs": []
    },
    {
      "cell_type": "markdown",
      "metadata": {
        "id": "JBTbueadQXGf"
      },
      "source": [
        "**Modify a list (does not return the list):**"
      ]
    },
    {
      "cell_type": "code",
      "metadata": {
        "jupyter": {
          "outputs_hidden": false
        },
        "id": "jl1Uqtf8QXGf"
      },
      "source": [
        "# append element to end\n",
        "simpsons.append('lisa')\n",
        "simpsons"
      ],
      "execution_count": null,
      "outputs": []
    },
    {
      "cell_type": "code",
      "metadata": {
        "jupyter": {
          "outputs_hidden": false
        },
        "id": "q8xfoyz0QXGf"
      },
      "source": [
        "# append multiple elements to end\n",
        "simpsons.extend(['itchy', 'scratchy'])\n",
        "simpsons"
      ],
      "execution_count": null,
      "outputs": []
    },
    {
      "cell_type": "code",
      "metadata": {
        "jupyter": {
          "outputs_hidden": false
        },
        "id": "QGZ7zl1fQXGg"
      },
      "source": [
        "# insert element at index 0 (shifts everything right)\n",
        "simpsons.insert(0, 'maggie')\n",
        "simpsons"
      ],
      "execution_count": null,
      "outputs": []
    },
    {
      "cell_type": "code",
      "metadata": {
        "jupyter": {
          "outputs_hidden": false
        },
        "id": "XzCMJy8-QXGg"
      },
      "source": [
        "# search for first instance and remove it\n",
        "simpsons.remove('bart')\n",
        "simpsons"
      ],
      "execution_count": null,
      "outputs": []
    },
    {
      "cell_type": "code",
      "metadata": {
        "jupyter": {
          "outputs_hidden": false
        },
        "id": "ggUNGOOKQXGg"
      },
      "source": [
        "# remove element 0 and return it\n",
        "simpsons.pop(0)"
      ],
      "execution_count": null,
      "outputs": []
    },
    {
      "cell_type": "code",
      "metadata": {
        "jupyter": {
          "outputs_hidden": false
        },
        "id": "h5rs7l0SQXGg"
      },
      "source": [
        "# remove element 0 (does not return it)\n",
        "del simpsons[0]\n",
        "simpsons"
      ],
      "execution_count": null,
      "outputs": []
    },
    {
      "cell_type": "code",
      "metadata": {
        "jupyter": {
          "outputs_hidden": false
        },
        "id": "hdKRHle_QXGg"
      },
      "source": [
        "# replace element 0\n",
        "simpsons[0] = 'krusty'\n",
        "simpsons"
      ],
      "execution_count": null,
      "outputs": []
    },
    {
      "cell_type": "code",
      "metadata": {
        "jupyter": {
          "outputs_hidden": false
        },
        "id": "7dn4OaizQXGh"
      },
      "source": [
        "# concatenate lists (slower than 'extend' method)\n",
        "neighbors = simpsons + ['ned', 'rod', 'todd']\n",
        "neighbors"
      ],
      "execution_count": null,
      "outputs": []
    },
    {
      "cell_type": "markdown",
      "metadata": {
        "id": "lX_E5BFKQXGh"
      },
      "source": [
        "**Find elements in a list:**"
      ]
    },
    {
      "cell_type": "code",
      "metadata": {
        "jupyter": {
          "outputs_hidden": false
        },
        "id": "PI0Mau6_QXGh"
      },
      "source": [
        "# counts the number of instances\n",
        "simpsons.count('lisa')"
      ],
      "execution_count": null,
      "outputs": []
    },
    {
      "cell_type": "code",
      "metadata": {
        "jupyter": {
          "outputs_hidden": false
        },
        "id": "G8tFBDwHQXGh"
      },
      "source": [
        "# returns index of first instance\n",
        "simpsons.index('itchy')"
      ],
      "execution_count": null,
      "outputs": []
    },
    {
      "cell_type": "markdown",
      "metadata": {
        "id": "GkjOG2weQXGh"
      },
      "source": [
        "**List slicing:**"
      ]
    },
    {
      "cell_type": "code",
      "metadata": {
        "id": "aSkW0pSLQXGi"
      },
      "source": [
        "weekdays = ['mon', 'tues', 'wed', 'thurs', 'fri']"
      ],
      "execution_count": null,
      "outputs": []
    },
    {
      "cell_type": "code",
      "metadata": {
        "jupyter": {
          "outputs_hidden": false
        },
        "id": "sh7qr72DQXGi"
      },
      "source": [
        "# element 0\n",
        "weekdays[0]"
      ],
      "execution_count": null,
      "outputs": []
    },
    {
      "cell_type": "code",
      "metadata": {
        "jupyter": {
          "outputs_hidden": false
        },
        "id": "kXSEgE4zQXGi"
      },
      "source": [
        "# elements 0 (inclusive) to 3 (exclusive)\n",
        "weekdays[0:3]"
      ],
      "execution_count": null,
      "outputs": []
    },
    {
      "cell_type": "code",
      "metadata": {
        "jupyter": {
          "outputs_hidden": false
        },
        "id": "j5BNY0RfQXGi"
      },
      "source": [
        "# starting point is implied to be 0\n",
        "weekdays[:3]"
      ],
      "execution_count": null,
      "outputs": []
    },
    {
      "cell_type": "code",
      "metadata": {
        "jupyter": {
          "outputs_hidden": false
        },
        "id": "d6x-sWW7QXGi"
      },
      "source": [
        "# elements 3 (inclusive) through the end\n",
        "weekdays[3:]"
      ],
      "execution_count": null,
      "outputs": []
    },
    {
      "cell_type": "code",
      "metadata": {
        "jupyter": {
          "outputs_hidden": false
        },
        "id": "T1EtXXukQXGi"
      },
      "source": [
        "# last element\n",
        "weekdays[-1]"
      ],
      "execution_count": null,
      "outputs": []
    },
    {
      "cell_type": "code",
      "metadata": {
        "jupyter": {
          "outputs_hidden": false
        },
        "id": "9ET1rCOXQXGj"
      },
      "source": [
        "# every 2nd element (step by 2)\n",
        "weekdays[::2]"
      ],
      "execution_count": null,
      "outputs": []
    },
    {
      "cell_type": "code",
      "metadata": {
        "jupyter": {
          "outputs_hidden": false
        },
        "id": "nn34GNlnQXGj"
      },
      "source": [
        "# backwards (step by -1)\n",
        "weekdays[::-1]"
      ],
      "execution_count": null,
      "outputs": []
    },
    {
      "cell_type": "code",
      "metadata": {
        "jupyter": {
          "outputs_hidden": false
        },
        "id": "OqB2yQ0YQXGj"
      },
      "source": [
        "# alternative method for returning the list backwards\n",
        "list(reversed(weekdays))"
      ],
      "execution_count": null,
      "outputs": []
    },
    {
      "cell_type": "markdown",
      "metadata": {
        "id": "xiyqnu8nQXGj"
      },
      "source": [
        "**Sort a list in place (modifies but does not return the list):**"
      ]
    },
    {
      "cell_type": "code",
      "metadata": {
        "jupyter": {
          "outputs_hidden": false
        },
        "id": "5QeP5VODQXGj"
      },
      "source": [
        "simpsons.sort()\n",
        "simpsons"
      ],
      "execution_count": null,
      "outputs": []
    },
    {
      "cell_type": "code",
      "metadata": {
        "jupyter": {
          "outputs_hidden": false
        },
        "id": "qF1Yn0JYQXGk"
      },
      "source": [
        "# sort in reverse\n",
        "simpsons.sort(reverse=True)\n",
        "simpsons"
      ],
      "execution_count": null,
      "outputs": []
    },
    {
      "cell_type": "code",
      "metadata": {
        "jupyter": {
          "outputs_hidden": false
        },
        "id": "U614RLJbQXGk"
      },
      "source": [
        "# sort by a key\n",
        "simpsons.sort(key=len)\n",
        "simpsons"
      ],
      "execution_count": null,
      "outputs": []
    },
    {
      "cell_type": "markdown",
      "metadata": {
        "id": "lFyTAsExQXGk"
      },
      "source": [
        "**Return a sorted list (does not modify the original list):**"
      ]
    },
    {
      "cell_type": "code",
      "metadata": {
        "jupyter": {
          "outputs_hidden": false
        },
        "id": "dfu9uTf5QXGk"
      },
      "source": [
        "sorted(simpsons)"
      ],
      "execution_count": null,
      "outputs": []
    },
    {
      "cell_type": "code",
      "metadata": {
        "jupyter": {
          "outputs_hidden": false
        },
        "id": "uOMp3IvEQXGk"
      },
      "source": [
        "sorted(simpsons, reverse=True)"
      ],
      "execution_count": null,
      "outputs": []
    },
    {
      "cell_type": "code",
      "metadata": {
        "jupyter": {
          "outputs_hidden": false
        },
        "id": "3TM7iUIaQXGk"
      },
      "source": [
        "sorted(simpsons, key=len)"
      ],
      "execution_count": null,
      "outputs": []
    },
    {
      "cell_type": "markdown",
      "metadata": {
        "id": "E_-jWQhcQXGl"
      },
      "source": [
        "**Insert into an already sorted list, and keep it sorted:**"
      ]
    },
    {
      "cell_type": "code",
      "metadata": {
        "jupyter": {
          "outputs_hidden": false
        },
        "id": "kMSvcjO3QXGl"
      },
      "source": [
        "num = [10, 20, 40, 50]\n",
        "from bisect import insort\n",
        "insort(num, 30)\n",
        "num"
      ],
      "execution_count": null,
      "outputs": []
    },
    {
      "cell_type": "markdown",
      "metadata": {
        "id": "QqON5F_YQXGl"
      },
      "source": [
        "**Object references and copies:**"
      ]
    },
    {
      "cell_type": "code",
      "metadata": {
        "id": "hE5C7490QXGl"
      },
      "source": [
        "# create a second reference to the same list\n",
        "same_num = num"
      ],
      "execution_count": null,
      "outputs": []
    },
    {
      "cell_type": "code",
      "metadata": {
        "jupyter": {
          "outputs_hidden": false
        },
        "id": "yo3ZTP35QXGl"
      },
      "source": [
        "# modifies both 'num' and 'same_num'\n",
        "same_num[0] = 0\n",
        "print(num)\n",
        "print(same_num)"
      ],
      "execution_count": null,
      "outputs": []
    },
    {
      "cell_type": "code",
      "metadata": {
        "id": "i7IqtUIEQXGm"
      },
      "source": [
        "# copy a list (two ways)\n",
        "new_num = num[:]\n",
        "new_num = list(num)"
      ],
      "execution_count": null,
      "outputs": []
    },
    {
      "cell_type": "markdown",
      "metadata": {
        "id": "aCDJKx5QQXGm"
      },
      "source": [
        "**Examine objects:**"
      ]
    },
    {
      "cell_type": "code",
      "metadata": {
        "jupyter": {
          "outputs_hidden": false
        },
        "id": "PCS5y3TcQXGm"
      },
      "source": [
        "num is same_num    # checks whether they are the same object"
      ],
      "execution_count": null,
      "outputs": []
    },
    {
      "cell_type": "code",
      "metadata": {
        "jupyter": {
          "outputs_hidden": false
        },
        "id": "kblSvC9FQXGm"
      },
      "source": [
        "num is new_num"
      ],
      "execution_count": null,
      "outputs": []
    },
    {
      "cell_type": "code",
      "metadata": {
        "jupyter": {
          "outputs_hidden": false
        },
        "id": "9ZfwpGwVQXGm"
      },
      "source": [
        "num == same_num    # checks whether they have the same contents"
      ],
      "execution_count": null,
      "outputs": []
    },
    {
      "cell_type": "code",
      "metadata": {
        "jupyter": {
          "outputs_hidden": false
        },
        "id": "n84cd5eBQXGm"
      },
      "source": [
        "num == new_num"
      ],
      "execution_count": null,
      "outputs": []
    },
    {
      "cell_type": "markdown",
      "metadata": {
        "id": "C3wBKgBEQXGn"
      },
      "source": [
        "[Back to top](#top)"
      ]
    },
    {
      "cell_type": "markdown",
      "metadata": {
        "id": "DlKuvcfUQXGn"
      },
      "source": [
        "<a name=\"tuples\"></a>\n",
        "## 7. Tuples\n",
        "\n",
        "- **Tuple properties:** ordered, iterable, immutable, can contain multiple data types\n",
        "- Like lists, but they don't change size"
      ]
    },
    {
      "cell_type": "code",
      "metadata": {
        "id": "OxN3ZehpQXGn"
      },
      "source": [
        "# create a tuple directly\n",
        "digits = (0, 1, 'two')"
      ],
      "execution_count": null,
      "outputs": []
    },
    {
      "cell_type": "code",
      "metadata": {
        "id": "7OnSFmU7QXGn"
      },
      "source": [
        "# create a tuple from a list\n",
        "digits = tuple([0, 1, 'two'])"
      ],
      "execution_count": null,
      "outputs": []
    },
    {
      "cell_type": "code",
      "metadata": {
        "id": "312hay06QXGn"
      },
      "source": [
        "# trailing comma is required to indicate it's a tuple\n",
        "zero = (0,)"
      ],
      "execution_count": null,
      "outputs": []
    },
    {
      "cell_type": "markdown",
      "metadata": {
        "id": "LeulDI3OQXGo"
      },
      "source": [
        "**Examine a tuple:**"
      ]
    },
    {
      "cell_type": "code",
      "metadata": {
        "jupyter": {
          "outputs_hidden": false
        },
        "id": "_ICq-YHTQXGo"
      },
      "source": [
        "digits[2]"
      ],
      "execution_count": null,
      "outputs": []
    },
    {
      "cell_type": "code",
      "metadata": {
        "jupyter": {
          "outputs_hidden": false
        },
        "id": "8RIY5eMgQXGo"
      },
      "source": [
        "len(digits)"
      ],
      "execution_count": null,
      "outputs": []
    },
    {
      "cell_type": "code",
      "metadata": {
        "jupyter": {
          "outputs_hidden": false
        },
        "id": "ygXSiN9CQXGo"
      },
      "source": [
        "# counts the number of instances of that value\n",
        "digits.count(0)"
      ],
      "execution_count": null,
      "outputs": []
    },
    {
      "cell_type": "code",
      "metadata": {
        "jupyter": {
          "outputs_hidden": false
        },
        "id": "NLSQ4eyhQXGo"
      },
      "source": [
        "# returns the index of the first instance of that value\n",
        "digits.index(1)"
      ],
      "execution_count": null,
      "outputs": []
    },
    {
      "cell_type": "markdown",
      "metadata": {
        "id": "o-H2f03sQXGp"
      },
      "source": [
        "**Modify a tuple:**"
      ]
    },
    {
      "cell_type": "code",
      "metadata": {
        "id": "k70zbbR5QXGp"
      },
      "source": [
        "# elements of a tuple cannot be modified (this would throw an error)\n",
        "# digits[2] = 2"
      ],
      "execution_count": null,
      "outputs": []
    },
    {
      "cell_type": "code",
      "metadata": {
        "jupyter": {
          "outputs_hidden": false
        },
        "id": "jfkUPg3VQXGp"
      },
      "source": [
        "# concatenate tuples\n",
        "digits = digits + (3, 4)\n",
        "digits"
      ],
      "execution_count": null,
      "outputs": []
    },
    {
      "cell_type": "markdown",
      "metadata": {
        "id": "NUHXwVHOQXGp"
      },
      "source": [
        "**Other tuple operations:**"
      ]
    },
    {
      "cell_type": "code",
      "metadata": {
        "jupyter": {
          "outputs_hidden": false
        },
        "id": "9Fes-mrDQXGp"
      },
      "source": [
        "# create a single tuple with elements repeated (also works with lists)\n",
        "(3, 4) * 2"
      ],
      "execution_count": null,
      "outputs": []
    },
    {
      "cell_type": "code",
      "metadata": {
        "jupyter": {
          "outputs_hidden": false
        },
        "id": "Mk4GayzHQXGq"
      },
      "source": [
        "# sort a list of tuples\n",
        "tens = [(20, 60), (10, 40), (20, 30)]\n",
        "sorted(tens)    # sorts by first element in tuple, then second element"
      ],
      "execution_count": null,
      "outputs": []
    },
    {
      "cell_type": "code",
      "metadata": {
        "jupyter": {
          "outputs_hidden": false
        },
        "id": "TqbBF_McQXGq"
      },
      "source": [
        "# tuple unpacking\n",
        "bart = ('male', 10, 'simpson')    # create a tuple\n",
        "(sex, age, surname) = bart        # assign three values at once\n",
        "print(sex)\n",
        "print(age)\n",
        "print(surname)"
      ],
      "execution_count": null,
      "outputs": []
    },
    {
      "cell_type": "markdown",
      "metadata": {
        "id": "Agwdd7dFQXGq"
      },
      "source": [
        "[Back to top](#top)"
      ]
    },
    {
      "cell_type": "markdown",
      "metadata": {
        "id": "H2ZsfCaWQXGq"
      },
      "source": [
        "<a name=\"strings\"></a>\n",
        "## 8. Strings\n",
        "\n",
        "- **String properties:** iterable, immutable"
      ]
    },
    {
      "cell_type": "code",
      "metadata": {
        "jupyter": {
          "outputs_hidden": false
        },
        "id": "xKsIytSwQXGr"
      },
      "source": [
        "# convert another data type into a string\n",
        "s = str(42)\n",
        "s"
      ],
      "execution_count": null,
      "outputs": []
    },
    {
      "cell_type": "code",
      "metadata": {
        "jupyter": {
          "outputs_hidden": false
        },
        "id": "LUffFnDIQXGr"
      },
      "source": [
        "# create a string directly\n",
        "s = 'I like you'"
      ],
      "execution_count": null,
      "outputs": []
    },
    {
      "cell_type": "markdown",
      "metadata": {
        "id": "C1uERR3_QXGr"
      },
      "source": [
        "**Examine a string:**"
      ]
    },
    {
      "cell_type": "code",
      "metadata": {
        "jupyter": {
          "outputs_hidden": false
        },
        "id": "m5lls7nKQXGr"
      },
      "source": [
        "s[0]"
      ],
      "execution_count": null,
      "outputs": []
    },
    {
      "cell_type": "code",
      "metadata": {
        "jupyter": {
          "outputs_hidden": false
        },
        "id": "wkKAaMoDQXGs"
      },
      "source": [
        "len(s)"
      ],
      "execution_count": null,
      "outputs": []
    },
    {
      "cell_type": "markdown",
      "metadata": {
        "id": "NwP7LkayQXGs"
      },
      "source": [
        "**String slicing is like list slicing:**"
      ]
    },
    {
      "cell_type": "code",
      "metadata": {
        "jupyter": {
          "outputs_hidden": false
        },
        "id": "3byj-g5_QXGs"
      },
      "source": [
        "s[:6]"
      ],
      "execution_count": null,
      "outputs": []
    },
    {
      "cell_type": "code",
      "metadata": {
        "jupyter": {
          "outputs_hidden": false
        },
        "id": "9tvpnIRiQXGs"
      },
      "source": [
        "s[7:]"
      ],
      "execution_count": null,
      "outputs": []
    },
    {
      "cell_type": "code",
      "metadata": {
        "jupyter": {
          "outputs_hidden": false
        },
        "id": "EmhwUbXeQXGs"
      },
      "source": [
        "s[-1]"
      ],
      "execution_count": null,
      "outputs": []
    },
    {
      "cell_type": "markdown",
      "metadata": {
        "id": "NEUv9UpCQXGs"
      },
      "source": [
        "**Basic string methods (does not modify the original string):**"
      ]
    },
    {
      "cell_type": "code",
      "metadata": {
        "jupyter": {
          "outputs_hidden": false
        },
        "id": "yzbfrJC8QXGt"
      },
      "source": [
        "s.lower()"
      ],
      "execution_count": null,
      "outputs": []
    },
    {
      "cell_type": "code",
      "metadata": {
        "jupyter": {
          "outputs_hidden": false
        },
        "id": "iGtUM3qmQXGt"
      },
      "source": [
        "s.upper()"
      ],
      "execution_count": null,
      "outputs": []
    },
    {
      "cell_type": "code",
      "metadata": {
        "jupyter": {
          "outputs_hidden": false
        },
        "id": "_T7JjiyYQXGt"
      },
      "source": [
        "s.startswith('I')"
      ],
      "execution_count": null,
      "outputs": []
    },
    {
      "cell_type": "code",
      "metadata": {
        "jupyter": {
          "outputs_hidden": false
        },
        "id": "LknnrJnJQXGt"
      },
      "source": [
        "s.endswith('you')"
      ],
      "execution_count": null,
      "outputs": []
    },
    {
      "cell_type": "code",
      "metadata": {
        "jupyter": {
          "outputs_hidden": false
        },
        "id": "XKoLiMxXQXGu"
      },
      "source": [
        "# checks whether every character in the string is a digit\n",
        "s.isdigit()"
      ],
      "execution_count": null,
      "outputs": []
    },
    {
      "cell_type": "code",
      "metadata": {
        "jupyter": {
          "outputs_hidden": false
        },
        "id": "4GVOmvw7QXGu"
      },
      "source": [
        "# returns index of first occurrence, but doesn't support regex\n",
        "s.find('like')"
      ],
      "execution_count": null,
      "outputs": []
    },
    {
      "cell_type": "code",
      "metadata": {
        "jupyter": {
          "outputs_hidden": false
        },
        "id": "7eDi5c1NQXGu"
      },
      "source": [
        "# returns -1 since not found\n",
        "s.find('hate')"
      ],
      "execution_count": null,
      "outputs": []
    },
    {
      "cell_type": "code",
      "metadata": {
        "jupyter": {
          "outputs_hidden": false
        },
        "id": "190ET8-2QXGu"
      },
      "source": [
        "# replaces all instances of 'like' with 'love'\n",
        "s.replace('like', 'love')"
      ],
      "execution_count": null,
      "outputs": []
    },
    {
      "cell_type": "markdown",
      "metadata": {
        "id": "Dvlr9WuWQXGu"
      },
      "source": [
        "**Split a string:**"
      ]
    },
    {
      "cell_type": "code",
      "metadata": {
        "jupyter": {
          "outputs_hidden": false
        },
        "id": "kCUTyCG7QXGv"
      },
      "source": [
        "# split a string into a list of substrings separated by a delimiter\n",
        "s.split(' ')"
      ],
      "execution_count": null,
      "outputs": []
    },
    {
      "cell_type": "code",
      "metadata": {
        "jupyter": {
          "outputs_hidden": false
        },
        "id": "fVEanIgnQXGv"
      },
      "source": [
        "# equivalent (since space is the default delimiter)\n",
        "s.split()"
      ],
      "execution_count": null,
      "outputs": []
    },
    {
      "cell_type": "code",
      "metadata": {
        "jupyter": {
          "outputs_hidden": false
        },
        "id": "mzlobFghQXGv"
      },
      "source": [
        "s2 = 'a, an, the'\n",
        "s2.split(',')"
      ],
      "execution_count": null,
      "outputs": []
    },
    {
      "cell_type": "markdown",
      "metadata": {
        "id": "WIh_DmLBQXGv"
      },
      "source": [
        "**Join or concatenate strings:**"
      ]
    },
    {
      "cell_type": "code",
      "metadata": {
        "jupyter": {
          "outputs_hidden": false
        },
        "id": "bMhbof-XQXGv"
      },
      "source": [
        "# join a list of strings into one string using a delimiter\n",
        "stooges = ['larry', 'curly', 'moe']\n",
        "' '.join(stooges)"
      ],
      "execution_count": null,
      "outputs": []
    },
    {
      "cell_type": "code",
      "metadata": {
        "jupyter": {
          "outputs_hidden": false
        },
        "scrolled": true,
        "id": "MVsEfo5RQXGw"
      },
      "source": [
        "# concatenate strings\n",
        "s3 = 'The meaning of life is'\n",
        "s4 = '42'\n",
        "s3 + ' ' + s4"
      ],
      "execution_count": null,
      "outputs": []
    },
    {
      "cell_type": "markdown",
      "metadata": {
        "id": "Si4okdrEQXGw"
      },
      "source": [
        "**Remove whitespace from the start and end of a string:**"
      ]
    },
    {
      "cell_type": "code",
      "metadata": {
        "jupyter": {
          "outputs_hidden": false
        },
        "id": "L0JtueuJQXGw"
      },
      "source": [
        "s5 = '  ham and cheese  '\n",
        "s5.strip()"
      ],
      "execution_count": null,
      "outputs": []
    },
    {
      "cell_type": "markdown",
      "metadata": {
        "id": "uqwaeByKQXGw"
      },
      "source": [
        "**String substitutions:**"
      ]
    },
    {
      "cell_type": "code",
      "metadata": {
        "jupyter": {
          "outputs_hidden": false
        },
        "id": "qvFlVqA6QXGx"
      },
      "source": [
        "# old way\n",
        "'raining %s and %s' % ('cats', 'dogs')"
      ],
      "execution_count": null,
      "outputs": []
    },
    {
      "cell_type": "code",
      "metadata": {
        "jupyter": {
          "outputs_hidden": false
        },
        "id": "s0nm92ZRQXGx"
      },
      "source": [
        "# new way\n",
        "'raining {} and {}'.format('cats', 'dogs')"
      ],
      "execution_count": null,
      "outputs": []
    },
    {
      "cell_type": "code",
      "metadata": {
        "jupyter": {
          "outputs_hidden": false
        },
        "scrolled": true,
        "id": "Uw2vy5qeQXGx"
      },
      "source": [
        "# new way (using named arguments)\n",
        "'raining {arg1} and {arg2}'.format(arg1='cats', arg2='dogs')"
      ],
      "execution_count": null,
      "outputs": []
    },
    {
      "cell_type": "markdown",
      "metadata": {
        "id": "DWzT7pDNQXGx"
      },
      "source": [
        "**String formatting ([more examples](https://mkaz.tech/python-string-format.html)):**"
      ]
    },
    {
      "cell_type": "code",
      "metadata": {
        "jupyter": {
          "outputs_hidden": false
        },
        "id": "uUgP3RK3QXGx"
      },
      "source": [
        "# use 2 decimal places\n",
        "'pi is {:.2f}'.format(3.14159)"
      ],
      "execution_count": null,
      "outputs": []
    },
    {
      "cell_type": "markdown",
      "metadata": {
        "id": "G2kGZPu2QXGy"
      },
      "source": [
        "**Normal strings versus raw strings:**"
      ]
    },
    {
      "cell_type": "code",
      "metadata": {
        "jupyter": {
          "outputs_hidden": false
        },
        "id": "WAQoeQAjQXGy"
      },
      "source": [
        "# normal strings allow for escaped characters\n",
        "print('first line\\nsecond line')"
      ],
      "execution_count": null,
      "outputs": []
    },
    {
      "cell_type": "code",
      "metadata": {
        "jupyter": {
          "outputs_hidden": false
        },
        "id": "hEPP9UVQQXGy"
      },
      "source": [
        "# raw strings treat backslashes as literal characters\n",
        "print(r'first line\\nfirst line')"
      ],
      "execution_count": null,
      "outputs": []
    },
    {
      "cell_type": "markdown",
      "metadata": {
        "id": "QTcBdi2SQXGy"
      },
      "source": [
        "[Back to top](#top)"
      ]
    },
    {
      "cell_type": "markdown",
      "metadata": {
        "id": "vxV6ixleQXGz"
      },
      "source": [
        "<a name=\"dict\"></a>\n",
        "## 9. Dictionaries\n",
        "\n",
        "- **Dictionary properties:** unordered, iterable, mutable, can contain multiple data types\n",
        "- Made of key-value pairs\n",
        "- Keys must be unique, and can be strings, numbers, or tuples\n",
        "- Values can be any type"
      ]
    },
    {
      "cell_type": "code",
      "metadata": {
        "id": "oXeENkSUQXGz"
      },
      "source": [
        "# create an empty dictionary (two ways)\n",
        "empty_dict = {}\n",
        "empty_dict = dict()"
      ],
      "execution_count": null,
      "outputs": []
    },
    {
      "cell_type": "code",
      "metadata": {
        "jupyter": {
          "outputs_hidden": false
        },
        "id": "UTvBPuxfQXGz"
      },
      "source": [
        "# create a dictionary (two ways)\n",
        "family = {'dad':'homer', 'mom':'marge', 'size':6}\n",
        "family = dict(dad='homer', mom='marge', size=6)\n",
        "family"
      ],
      "execution_count": null,
      "outputs": []
    },
    {
      "cell_type": "code",
      "metadata": {
        "jupyter": {
          "outputs_hidden": false
        },
        "id": "hqCf_eh-QXGz"
      },
      "source": [
        "# convert a list of tuples into a dictionary\n",
        "list_of_tuples = [('dad', 'homer'), ('mom', 'marge'), ('size', 6)]\n",
        "family = dict(list_of_tuples)\n",
        "family"
      ],
      "execution_count": null,
      "outputs": []
    },
    {
      "cell_type": "markdown",
      "metadata": {
        "id": "JXGCDqgHQXG0"
      },
      "source": [
        "**Examine a dictionary:**"
      ]
    },
    {
      "cell_type": "code",
      "metadata": {
        "jupyter": {
          "outputs_hidden": false
        },
        "id": "UcvPro_iQXG0"
      },
      "source": [
        "# pass a key to return its value\n",
        "family['dad']"
      ],
      "execution_count": null,
      "outputs": []
    },
    {
      "cell_type": "code",
      "metadata": {
        "jupyter": {
          "outputs_hidden": false
        },
        "id": "9rhnkF3rQXG0"
      },
      "source": [
        "# return the number of key-value pairs\n",
        "len(family)"
      ],
      "execution_count": null,
      "outputs": []
    },
    {
      "cell_type": "code",
      "metadata": {
        "jupyter": {
          "outputs_hidden": false
        },
        "id": "bbOon-_KQXG0"
      },
      "source": [
        "# check if key exists in dictionary\n",
        "'mom' in family"
      ],
      "execution_count": null,
      "outputs": []
    },
    {
      "cell_type": "code",
      "metadata": {
        "jupyter": {
          "outputs_hidden": false
        },
        "id": "6YUziIzKQXG0"
      },
      "source": [
        "# dictionary values are not checked\n",
        "'marge' in family"
      ],
      "execution_count": null,
      "outputs": []
    },
    {
      "cell_type": "code",
      "metadata": {
        "jupyter": {
          "outputs_hidden": false
        },
        "id": "g8nuqxzbQXG1"
      },
      "source": [
        "# returns a list of keys (Python 2) or an iterable view (Python 3)\n",
        "family.keys()"
      ],
      "execution_count": null,
      "outputs": []
    },
    {
      "cell_type": "code",
      "metadata": {
        "jupyter": {
          "outputs_hidden": false
        },
        "id": "8hFddpHeQXG1"
      },
      "source": [
        "# returns a list of values (Python 2) or an iterable view (Python 3)\n",
        "family.values()"
      ],
      "execution_count": null,
      "outputs": []
    },
    {
      "cell_type": "code",
      "metadata": {
        "jupyter": {
          "outputs_hidden": false
        },
        "id": "cjlkyIgIQXG1"
      },
      "source": [
        "# returns a list of key-value pairs (Python 2) or an iterable view (Python 3)\n",
        "family.items()"
      ],
      "execution_count": null,
      "outputs": []
    },
    {
      "cell_type": "markdown",
      "metadata": {
        "id": "375sYjf6QXG2"
      },
      "source": [
        "**Modify a dictionary (does not return the dictionary):**"
      ]
    },
    {
      "cell_type": "code",
      "metadata": {
        "jupyter": {
          "outputs_hidden": false
        },
        "id": "YCusjIAmQXG2"
      },
      "source": [
        "# add a new entry\n",
        "family['cat'] = 'snowball'\n",
        "family"
      ],
      "execution_count": null,
      "outputs": []
    },
    {
      "cell_type": "code",
      "metadata": {
        "jupyter": {
          "outputs_hidden": false
        },
        "id": "-kWIQ7-lQXG2"
      },
      "source": [
        "# edit an existing entry\n",
        "family['cat'] = 'snowball ii'\n",
        "family"
      ],
      "execution_count": null,
      "outputs": []
    },
    {
      "cell_type": "code",
      "metadata": {
        "jupyter": {
          "outputs_hidden": false
        },
        "id": "bVdAFwgCQXG3"
      },
      "source": [
        "# delete an entry\n",
        "del family['cat']\n",
        "family"
      ],
      "execution_count": null,
      "outputs": []
    },
    {
      "cell_type": "code",
      "metadata": {
        "jupyter": {
          "outputs_hidden": false
        },
        "id": "hnv4OyAwQXG3"
      },
      "source": [
        "# dictionary value can be a list\n",
        "family['kids'] = ['bart', 'lisa']\n",
        "family"
      ],
      "execution_count": null,
      "outputs": []
    },
    {
      "cell_type": "code",
      "metadata": {
        "jupyter": {
          "outputs_hidden": false
        },
        "id": "ekiAmgXbQXG4"
      },
      "source": [
        "# remove an entry and return the value\n",
        "family.pop('dad')"
      ],
      "execution_count": null,
      "outputs": []
    },
    {
      "cell_type": "code",
      "metadata": {
        "jupyter": {
          "outputs_hidden": false
        },
        "id": "YYDDkHVgQXG4"
      },
      "source": [
        "# add multiple entries\n",
        "family.update({'baby':'maggie', 'grandpa':'abe'})\n",
        "family"
      ],
      "execution_count": null,
      "outputs": []
    },
    {
      "cell_type": "markdown",
      "metadata": {
        "id": "K4DtoZ8aQXG4"
      },
      "source": [
        "**Access values more safely with `get`:**"
      ]
    },
    {
      "cell_type": "code",
      "metadata": {
        "jupyter": {
          "outputs_hidden": false
        },
        "id": "OlWQT_IDQXG5"
      },
      "source": [
        "family['mom']"
      ],
      "execution_count": null,
      "outputs": []
    },
    {
      "cell_type": "code",
      "metadata": {
        "jupyter": {
          "outputs_hidden": false
        },
        "id": "6zpsk-A1QXG5"
      },
      "source": [
        "# equivalent to a dictionary lookup\n",
        "family.get('mom')"
      ],
      "execution_count": null,
      "outputs": []
    },
    {
      "cell_type": "code",
      "metadata": {
        "jupyter": {
          "outputs_hidden": false
        },
        "id": "4qEDf8W7QXG5"
      },
      "source": [
        "# this would throw an error since the key does not exist\n",
        "# family['grandma']"
      ],
      "execution_count": null,
      "outputs": []
    },
    {
      "cell_type": "code",
      "metadata": {
        "id": "FEWeBW6cQXG6"
      },
      "source": [
        "# return None if not found\n",
        "family.get('grandma')"
      ],
      "execution_count": null,
      "outputs": []
    },
    {
      "cell_type": "code",
      "metadata": {
        "jupyter": {
          "outputs_hidden": false
        },
        "id": "biD9f37IQXG6"
      },
      "source": [
        "# provide a default return value if not found\n",
        "family.get('grandma', 'not found')"
      ],
      "execution_count": null,
      "outputs": []
    },
    {
      "cell_type": "markdown",
      "metadata": {
        "id": "5EVjve5fQXG6"
      },
      "source": [
        "**Access a list element within a dictionary:**"
      ]
    },
    {
      "cell_type": "code",
      "metadata": {
        "jupyter": {
          "outputs_hidden": false
        },
        "id": "zIC7hnBTQXG7"
      },
      "source": [
        "family['kids'][0]"
      ],
      "execution_count": null,
      "outputs": []
    },
    {
      "cell_type": "code",
      "metadata": {
        "jupyter": {
          "outputs_hidden": false
        },
        "id": "Z0A2hy_KQXG7"
      },
      "source": [
        "family['kids'].remove('lisa')\n",
        "family"
      ],
      "execution_count": null,
      "outputs": []
    },
    {
      "cell_type": "markdown",
      "metadata": {
        "id": "El4u-tUPQXG7"
      },
      "source": [
        "**String substitution using a dictionary:**"
      ]
    },
    {
      "cell_type": "code",
      "metadata": {
        "jupyter": {
          "outputs_hidden": false
        },
        "id": "xuGKLuB_QXG8"
      },
      "source": [
        "'youngest child is %(baby)s' % family"
      ],
      "execution_count": null,
      "outputs": []
    },
    {
      "cell_type": "markdown",
      "metadata": {
        "id": "jhRNoHd-QXG8"
      },
      "source": [
        "[Back to top](#top)"
      ]
    },
    {
      "cell_type": "markdown",
      "metadata": {
        "id": "RSCJ7ZueQXG8"
      },
      "source": [
        "<a name=\"sets\"></a>\n",
        "## 10. Sets\n",
        "\n",
        "- **Set properties:** unordered, iterable, mutable, can contain multiple data types\n",
        "- Made of unique elements (strings, numbers, or tuples)\n",
        "- Like dictionaries, but with keys only (no values)"
      ]
    },
    {
      "cell_type": "code",
      "metadata": {
        "id": "MUhOZuGmQXG9"
      },
      "source": [
        "# create an empty set\n",
        "empty_set = set()"
      ],
      "execution_count": null,
      "outputs": []
    },
    {
      "cell_type": "code",
      "metadata": {
        "id": "J6rGGaCSQXG9"
      },
      "source": [
        "# create a set directly\n",
        "languages = {'python', 'r', 'java'}"
      ],
      "execution_count": null,
      "outputs": []
    },
    {
      "cell_type": "code",
      "metadata": {
        "id": "lUKGuUStQXG9"
      },
      "source": [
        "# create a set from a list\n",
        "snakes = set(['cobra', 'viper', 'python'])"
      ],
      "execution_count": null,
      "outputs": []
    },
    {
      "cell_type": "markdown",
      "metadata": {
        "id": "ClOxYq-nQXG-"
      },
      "source": [
        "**Examine a set:**"
      ]
    },
    {
      "cell_type": "code",
      "metadata": {
        "jupyter": {
          "outputs_hidden": false
        },
        "id": "H0aX19bOQXG-"
      },
      "source": [
        "len(languages)"
      ],
      "execution_count": null,
      "outputs": []
    },
    {
      "cell_type": "code",
      "metadata": {
        "jupyter": {
          "outputs_hidden": false
        },
        "id": "8bKUnwYFQXG-"
      },
      "source": [
        "'python' in languages"
      ],
      "execution_count": null,
      "outputs": []
    },
    {
      "cell_type": "markdown",
      "metadata": {
        "id": "uqceG02DQXG_"
      },
      "source": [
        "**Set operations:**"
      ]
    },
    {
      "cell_type": "code",
      "metadata": {
        "jupyter": {
          "outputs_hidden": false
        },
        "id": "P7KpVC5iQXG_"
      },
      "source": [
        "# intersection\n",
        "languages & snakes"
      ],
      "execution_count": null,
      "outputs": []
    },
    {
      "cell_type": "code",
      "metadata": {
        "jupyter": {
          "outputs_hidden": false
        },
        "id": "iUs6CH2FQXG_"
      },
      "source": [
        "# union\n",
        "languages | snakes"
      ],
      "execution_count": null,
      "outputs": []
    },
    {
      "cell_type": "code",
      "metadata": {
        "jupyter": {
          "outputs_hidden": false
        },
        "id": "pyKusCrLQXHA"
      },
      "source": [
        "# set difference\n",
        "languages - snakes"
      ],
      "execution_count": null,
      "outputs": []
    },
    {
      "cell_type": "code",
      "metadata": {
        "jupyter": {
          "outputs_hidden": false
        },
        "id": "WeJjFJtVQXHA"
      },
      "source": [
        "# set difference\n",
        "snakes - languages"
      ],
      "execution_count": null,
      "outputs": []
    },
    {
      "cell_type": "markdown",
      "metadata": {
        "id": "RR1q8fD_QXHA"
      },
      "source": [
        "**Modify a set (does not return the set):**"
      ]
    },
    {
      "cell_type": "code",
      "metadata": {
        "jupyter": {
          "outputs_hidden": false
        },
        "id": "Q8gpyWAMQXHB"
      },
      "source": [
        "# add a new element\n",
        "languages.add('sql')\n",
        "languages"
      ],
      "execution_count": null,
      "outputs": []
    },
    {
      "cell_type": "code",
      "metadata": {
        "jupyter": {
          "outputs_hidden": false
        },
        "id": "h8pucG8CQXHB"
      },
      "source": [
        "# try to add an existing element (ignored, no error)\n",
        "languages.add('r')\n",
        "languages"
      ],
      "execution_count": null,
      "outputs": []
    },
    {
      "cell_type": "code",
      "metadata": {
        "jupyter": {
          "outputs_hidden": false
        },
        "id": "sKq5dhGtQXHB"
      },
      "source": [
        "# remove an element\n",
        "languages.remove('java')\n",
        "languages"
      ],
      "execution_count": null,
      "outputs": []
    },
    {
      "cell_type": "code",
      "metadata": {
        "jupyter": {
          "outputs_hidden": false
        },
        "id": "8ilzCjCfQXHB"
      },
      "source": [
        "# try to remove a non-existing element (this would throw an error)\n",
        "# languages.remove('c')"
      ],
      "execution_count": null,
      "outputs": []
    },
    {
      "cell_type": "code",
      "metadata": {
        "jupyter": {
          "outputs_hidden": false
        },
        "id": "Nz6EVMiCQXHC"
      },
      "source": [
        "# remove an element if present, but ignored otherwise\n",
        "languages.discard('c')\n",
        "languages"
      ],
      "execution_count": null,
      "outputs": []
    },
    {
      "cell_type": "code",
      "metadata": {
        "jupyter": {
          "outputs_hidden": false
        },
        "id": "_VYJqyZAQXHC"
      },
      "source": [
        "# remove and return an arbitrary element\n",
        "languages.pop()"
      ],
      "execution_count": null,
      "outputs": []
    },
    {
      "cell_type": "code",
      "metadata": {
        "jupyter": {
          "outputs_hidden": false
        },
        "id": "XvFmZFKLQXHC"
      },
      "source": [
        "# remove all elements\n",
        "languages.clear()\n",
        "languages"
      ],
      "execution_count": null,
      "outputs": []
    },
    {
      "cell_type": "code",
      "metadata": {
        "jupyter": {
          "outputs_hidden": false
        },
        "id": "M9DbzsZhQXHD"
      },
      "source": [
        "# add multiple elements (can also pass a set)\n",
        "languages.update(['go', 'spark'])\n",
        "languages"
      ],
      "execution_count": null,
      "outputs": []
    },
    {
      "cell_type": "markdown",
      "metadata": {
        "id": "H543R2GrQXHD"
      },
      "source": [
        "**Get a sorted list of unique elements from a list:**"
      ]
    },
    {
      "cell_type": "code",
      "metadata": {
        "jupyter": {
          "outputs_hidden": false
        },
        "id": "3U7r1dTxQXHD"
      },
      "source": [
        "sorted(set([9, 0, 2, 1, 0]))"
      ],
      "execution_count": null,
      "outputs": []
    },
    {
      "cell_type": "markdown",
      "metadata": {
        "id": "i-Sp11rEQXHD"
      },
      "source": [
        "[Back to top](#top)"
      ]
    },
    {
      "cell_type": "markdown",
      "metadata": {
        "id": "vik5yJTdQXHD"
      },
      "source": [
        "<a name=\"loop\"></a>\n",
        "## 11. For Loops and While Loops"
      ]
    },
    {
      "cell_type": "markdown",
      "metadata": {
        "id": "Zi2qTsuVQXHD"
      },
      "source": [
        "**`range` returns a list of integers (Python 2) or a sequence (Python 3):**"
      ]
    },
    {
      "cell_type": "code",
      "metadata": {
        "jupyter": {
          "outputs_hidden": false
        },
        "id": "Z4fD2Nu4QXHE"
      },
      "source": [
        "# includes the start value but excludes the stop value\n",
        "range(0, 3)"
      ],
      "execution_count": null,
      "outputs": []
    },
    {
      "cell_type": "code",
      "metadata": {
        "jupyter": {
          "outputs_hidden": false
        },
        "id": "il2rKKcSQXHE"
      },
      "source": [
        "# default start value is 0\n",
        "range(3)"
      ],
      "execution_count": null,
      "outputs": []
    },
    {
      "cell_type": "code",
      "metadata": {
        "jupyter": {
          "outputs_hidden": false
        },
        "id": "5NYRncBfQXHE"
      },
      "source": [
        "# third argument is the step value\n",
        "range(0, 5, 2)"
      ],
      "execution_count": null,
      "outputs": []
    },
    {
      "cell_type": "code",
      "metadata": {
        "jupyter": {
          "outputs_hidden": false
        },
        "id": "mmlLtjneQXHE"
      },
      "source": [
        "# Python 2 only: use xrange to create a sequence rather than a list (saves memory)\n",
        "xrange(100, 100000, 5)"
      ],
      "execution_count": null,
      "outputs": []
    },
    {
      "cell_type": "markdown",
      "metadata": {
        "id": "dYiTKV23QXHE"
      },
      "source": [
        "**`for` loops:**"
      ]
    },
    {
      "cell_type": "code",
      "metadata": {
        "jupyter": {
          "outputs_hidden": false
        },
        "id": "5daXaGLpQXHE"
      },
      "source": [
        "# not the recommended style\n",
        "fruits = ['apple', 'banana', 'cherry']\n",
        "for i in range(len(fruits)):\n",
        "    print(fruits[i].upper())"
      ],
      "execution_count": null,
      "outputs": []
    },
    {
      "cell_type": "code",
      "metadata": {
        "jupyter": {
          "outputs_hidden": false
        },
        "id": "R2PifiNtQXHF"
      },
      "source": [
        "# recommended style\n",
        "for fruit in fruits:\n",
        "    print(fruit.upper())"
      ],
      "execution_count": null,
      "outputs": []
    },
    {
      "cell_type": "code",
      "metadata": {
        "jupyter": {
          "outputs_hidden": false
        },
        "id": "W-8uyEvrQXHF"
      },
      "source": [
        "# iterate through two things at once (using tuple unpacking)\n",
        "family = {'dad':'homer', 'mom':'marge', 'size':6}\n",
        "for key, value in family.items():\n",
        "    print(key, value)"
      ],
      "execution_count": null,
      "outputs": []
    },
    {
      "cell_type": "code",
      "metadata": {
        "jupyter": {
          "outputs_hidden": false
        },
        "id": "dRZVEr-eQXHF"
      },
      "source": [
        "# use enumerate if you need to access the index value within the loop\n",
        "for index, fruit in enumerate(fruits):\n",
        "    print(index, fruit)"
      ],
      "execution_count": null,
      "outputs": []
    },
    {
      "cell_type": "markdown",
      "metadata": {
        "id": "rYBgHU4OQXHF"
      },
      "source": [
        "**`for`/`else` loop:**"
      ]
    },
    {
      "cell_type": "code",
      "metadata": {
        "jupyter": {
          "outputs_hidden": false
        },
        "id": "6aofs9tUQXHF"
      },
      "source": [
        "for fruit in fruits:\n",
        "    if fruit == 'banana':\n",
        "        print('Found the banana!')\n",
        "        break    # exit the loop and skip the 'else' block\n",
        "else:\n",
        "    # this block executes ONLY if the for loop completes without hitting 'break'\n",
        "    print(\"Can't find the banana\")"
      ],
      "execution_count": null,
      "outputs": []
    },
    {
      "cell_type": "markdown",
      "metadata": {
        "id": "uc1SOYGSQXHF"
      },
      "source": [
        "**`while` loop:**"
      ]
    },
    {
      "cell_type": "code",
      "metadata": {
        "jupyter": {
          "outputs_hidden": false
        },
        "id": "OB8hegbnQXHF"
      },
      "source": [
        "count = 0\n",
        "while count < 5:\n",
        "    print('This will print 5 times')\n",
        "    count += 1    # equivalent to 'count = count + 1'"
      ],
      "execution_count": null,
      "outputs": []
    },
    {
      "cell_type": "markdown",
      "metadata": {
        "id": "U3LoOwb8QXHG"
      },
      "source": [
        "[Back to top](#top)"
      ]
    },
    {
      "cell_type": "markdown",
      "metadata": {
        "id": "Gy6cAEeOQXHG"
      },
      "source": [
        "<a name=\"func\"></a>\n",
        "## 12. Defining Functions"
      ]
    },
    {
      "cell_type": "markdown",
      "metadata": {
        "id": "3pK8k2MtQXHG"
      },
      "source": [
        "**Define a function with no arguments and no return values:**"
      ]
    },
    {
      "cell_type": "code",
      "metadata": {
        "id": "UUAT0mU3QXHG"
      },
      "source": [
        "def print_text():\n",
        "    print('this is text')"
      ],
      "execution_count": null,
      "outputs": []
    },
    {
      "cell_type": "code",
      "metadata": {
        "jupyter": {
          "outputs_hidden": false
        },
        "id": "pN-ejYc2QXHG"
      },
      "source": [
        "# call the function\n",
        "print_text()"
      ],
      "execution_count": null,
      "outputs": []
    },
    {
      "cell_type": "markdown",
      "metadata": {
        "id": "Uqe1A72NQXHG"
      },
      "source": [
        "**Define a function with one argument and no return values:**"
      ]
    },
    {
      "cell_type": "code",
      "metadata": {
        "id": "TEKWJgOxQXHH"
      },
      "source": [
        "def print_this(x):\n",
        "    print(x)"
      ],
      "execution_count": null,
      "outputs": []
    },
    {
      "cell_type": "code",
      "metadata": {
        "jupyter": {
          "outputs_hidden": false
        },
        "id": "Ov3PgFA9QXHH"
      },
      "source": [
        "# call the function\n",
        "print_this(3)"
      ],
      "execution_count": null,
      "outputs": []
    },
    {
      "cell_type": "code",
      "metadata": {
        "jupyter": {
          "outputs_hidden": false
        },
        "id": "aaHqMQLKQXHH"
      },
      "source": [
        "# prints 3, but doesn't assign 3 to n because the function has no return statement\n",
        "n = print_this(3)"
      ],
      "execution_count": null,
      "outputs": []
    },
    {
      "cell_type": "markdown",
      "metadata": {
        "id": "h6yl1_o6QXHH"
      },
      "source": [
        "**Define a function with one argument and one return value:**"
      ]
    },
    {
      "cell_type": "code",
      "metadata": {
        "id": "gb85g_YUQXHH"
      },
      "source": [
        "def square_this(x):\n",
        "    return x**2"
      ],
      "execution_count": null,
      "outputs": []
    },
    {
      "cell_type": "code",
      "metadata": {
        "id": "SW3Me_ZiQXHH"
      },
      "source": [
        "# include an optional docstring to describe the effect of a function\n",
        "def square_this(x):\n",
        "    \"\"\"Return the square of a number.\"\"\"\n",
        "    return x**2"
      ],
      "execution_count": null,
      "outputs": []
    },
    {
      "cell_type": "code",
      "metadata": {
        "jupyter": {
          "outputs_hidden": false
        },
        "id": "5NQAbCWWQXHH"
      },
      "source": [
        "# call the function\n",
        "square_this(3)"
      ],
      "execution_count": null,
      "outputs": []
    },
    {
      "cell_type": "code",
      "metadata": {
        "id": "XC6uzIaHQXHI"
      },
      "source": [
        "# assigns 9 to var, but does not print 9\n",
        "var = square_this(3)"
      ],
      "execution_count": null,
      "outputs": []
    },
    {
      "cell_type": "markdown",
      "metadata": {
        "id": "ldV65yBcQXHI"
      },
      "source": [
        "**Define a function with two 'positional arguments' (no default values) and one 'keyword argument' (has a default value):**\n"
      ]
    },
    {
      "cell_type": "code",
      "metadata": {
        "id": "HaSTWX_0QXHI"
      },
      "source": [
        "def calc(a, b, op='add'):\n",
        "    if op == 'add':\n",
        "        return a + b\n",
        "    elif op == 'sub':\n",
        "        return a - b\n",
        "    else:\n",
        "        print('valid operations are add and sub')"
      ],
      "execution_count": null,
      "outputs": []
    },
    {
      "cell_type": "code",
      "metadata": {
        "jupyter": {
          "outputs_hidden": false
        },
        "id": "9tUbknxqQXHI"
      },
      "source": [
        "# call the function\n",
        "calc(10, 4, op='add')"
      ],
      "execution_count": null,
      "outputs": []
    },
    {
      "cell_type": "code",
      "metadata": {
        "jupyter": {
          "outputs_hidden": false
        },
        "id": "b_dnAJBkQXHI"
      },
      "source": [
        "# unnamed arguments are inferred by position\n",
        "calc(10, 4, 'add')"
      ],
      "execution_count": null,
      "outputs": []
    },
    {
      "cell_type": "code",
      "metadata": {
        "jupyter": {
          "outputs_hidden": false
        },
        "id": "GqiyNCEtQXHI"
      },
      "source": [
        "# default for 'op' is 'add'\n",
        "calc(10, 4)"
      ],
      "execution_count": null,
      "outputs": []
    },
    {
      "cell_type": "code",
      "metadata": {
        "jupyter": {
          "outputs_hidden": false
        },
        "id": "m0sEhbC2QXHJ"
      },
      "source": [
        "calc(10, 4, 'sub')"
      ],
      "execution_count": null,
      "outputs": []
    },
    {
      "cell_type": "code",
      "metadata": {
        "jupyter": {
          "outputs_hidden": false
        },
        "id": "WLwnA9jlQXHJ"
      },
      "source": [
        "calc(10, 4, 'div')"
      ],
      "execution_count": null,
      "outputs": []
    },
    {
      "cell_type": "markdown",
      "metadata": {
        "id": "pLQOX8SFQXHJ"
      },
      "source": [
        "**Use `pass` as a placeholder if you haven't written the function body:**"
      ]
    },
    {
      "cell_type": "code",
      "metadata": {
        "id": "enSJSwUBQXHJ"
      },
      "source": [
        "def stub():\n",
        "    pass"
      ],
      "execution_count": null,
      "outputs": []
    },
    {
      "cell_type": "markdown",
      "metadata": {
        "id": "PtuMvovKQXHJ"
      },
      "source": [
        "**Return two values from a single function:**"
      ]
    },
    {
      "cell_type": "code",
      "metadata": {
        "id": "slChjDeYQXHJ"
      },
      "source": [
        "def min_max(nums):\n",
        "    return min(nums), max(nums)"
      ],
      "execution_count": null,
      "outputs": []
    },
    {
      "cell_type": "code",
      "metadata": {
        "jupyter": {
          "outputs_hidden": false
        },
        "id": "7AVti_A4QXHK"
      },
      "source": [
        "# return values can be assigned to a single variable as a tuple\n",
        "nums = [1, 2, 3]\n",
        "min_max_num = min_max(nums)\n",
        "min_max_num"
      ],
      "execution_count": null,
      "outputs": []
    },
    {
      "cell_type": "code",
      "metadata": {
        "jupyter": {
          "outputs_hidden": false
        },
        "id": "5SfL0MsNQXHK"
      },
      "source": [
        "# return values can be assigned into multiple variables using tuple unpacking\n",
        "min_num, max_num = min_max(nums)\n",
        "print(min_num)\n",
        "print(max_num)"
      ],
      "execution_count": null,
      "outputs": []
    },
    {
      "cell_type": "markdown",
      "metadata": {
        "id": "BR6c5wvZQXHK"
      },
      "source": [
        "[Back to top](#top)"
      ]
    },
    {
      "cell_type": "markdown",
      "metadata": {
        "id": "hVFyfZsWQXHK"
      },
      "source": [
        "<a name=\"oop\"></a>\n",
        "## 13. Object Oriented Programming"
      ]
    },
    {
      "cell_type": "markdown",
      "metadata": {
        "id": "9xNUmq6DQXHK"
      },
      "source": [
        "**This is similar to cellular structure:**"
      ]
    },
    {
      "cell_type": "markdown",
      "metadata": {
        "id": "GhODdGjeQXHK"
      },
      "source": [
        "![](https://drive.google.com/uc?export=view&id=1O9QzorrtUVr77VM64K4WE7OTnGiDuQZH)\n",
        "\n",
        "We can create \"things\" with:\n",
        "\n",
        "- attributes: things those \"things\" have;\n",
        "- methods: things those \"things\" can do.\n",
        "\n",
        "![](https://drive.google.com/uc?export=view&id=1FU9U5Is35T1kv-bBhyAOLPdFuFkOvBAZ)"
      ]
    },
    {
      "cell_type": "markdown",
      "metadata": {
        "id": "gD26KpjOQXHK"
      },
      "source": [
        "**Defining a class**"
      ]
    },
    {
      "cell_type": "code",
      "metadata": {
        "id": "HmKsjuhaQXHL"
      },
      "source": [
        "class Student():\n",
        "    \"\"\"We can create a simple empty class.\n",
        "    \n",
        "    This is a set of rules that says what a student is.\n",
        "    \"\"\""
      ],
      "execution_count": null,
      "outputs": []
    },
    {
      "cell_type": "code",
      "metadata": {
        "id": "gJWVD5XrQXHL"
      },
      "source": [
        "vince = Student()  # Creating an instance\n",
        "vince"
      ],
      "execution_count": null,
      "outputs": []
    },
    {
      "cell_type": "code",
      "metadata": {
        "id": "02xcuhHJQXHL"
      },
      "source": [
        "zoe = Student()  # Creating a different instance\n",
        "zoe"
      ],
      "execution_count": null,
      "outputs": []
    },
    {
      "cell_type": "markdown",
      "metadata": {
        "id": "SPk30W8HQXHL"
      },
      "source": [
        "**Attributes**"
      ]
    },
    {
      "cell_type": "code",
      "metadata": {
        "id": "NA6plQE5QXHL"
      },
      "source": [
        "class Student():\n",
        "    courses = [\"Biology\", \"Mathematics\", \"English\"]\n",
        "    age = 5\n",
        "    gender = \"Male\"\n",
        "#Let us now create Vince again:\n",
        "vince = Student()"
      ],
      "execution_count": null,
      "outputs": []
    },
    {
      "cell_type": "markdown",
      "metadata": {
        "id": "woTtu-6VQXHL"
      },
      "source": [
        "**Accessing these attributes:**"
      ]
    },
    {
      "cell_type": "code",
      "metadata": {
        "id": "51KQcFSOQXHL"
      },
      "source": [
        "vince.courses"
      ],
      "execution_count": null,
      "outputs": []
    },
    {
      "cell_type": "code",
      "metadata": {
        "id": "4VWG69xIQXHM"
      },
      "source": [
        "vince.age"
      ],
      "execution_count": null,
      "outputs": []
    },
    {
      "cell_type": "code",
      "metadata": {
        "id": "O97YjB9JQXHM"
      },
      "source": [
        "vince.gender"
      ],
      "execution_count": null,
      "outputs": []
    },
    {
      "cell_type": "markdown",
      "metadata": {
        "id": "-iDvjG1eQXHM"
      },
      "source": [
        "**We can manipulate these attributes just like *any other* python variable:**"
      ]
    },
    {
      "cell_type": "code",
      "metadata": {
        "id": "1WkDx5LaQXHM"
      },
      "source": [
        "vince.courses.append(\"Photography\")\n",
        "vince.courses"
      ],
      "execution_count": null,
      "outputs": []
    },
    {
      "cell_type": "code",
      "metadata": {
        "id": "ph9oUK-SQXHM"
      },
      "source": [
        "vince.age = 28\n",
        "vince.age"
      ],
      "execution_count": null,
      "outputs": []
    },
    {
      "cell_type": "code",
      "metadata": {
        "id": "bamDYaOoQXHM"
      },
      "source": [
        "vince.gender = \"M\"\n",
        "vince.gender"
      ],
      "execution_count": null,
      "outputs": []
    },
    {
      "cell_type": "markdown",
      "metadata": {
        "id": "ybYMYMBfQXHN"
      },
      "source": [
        "**Methods**"
      ]
    },
    {
      "cell_type": "code",
      "metadata": {
        "id": "QYjIuwWvQXHN"
      },
      "source": [
        "class Student():\n",
        "    courses = [\"Biology\", \"Mathematics\", \"English\"]\n",
        "    age = 5\n",
        "    sex = \"Male\"\n",
        "\n",
        "    def have_a_birthday(self):\n",
        "        \"\"\"This method increments the age of our instance.\"\"\"\n",
        "        self.age += 1"
      ],
      "execution_count": null,
      "outputs": []
    },
    {
      "cell_type": "code",
      "metadata": {
        "id": "OTVtNEXWQXHN"
      },
      "source": [
        "vince = Student()\n",
        "vince.age"
      ],
      "execution_count": null,
      "outputs": []
    },
    {
      "cell_type": "code",
      "metadata": {
        "id": "nqu4DgMtQXHN"
      },
      "source": [
        "vince.have_a_birthday()\n",
        "vince.age"
      ],
      "execution_count": null,
      "outputs": []
    },
    {
      "cell_type": "markdown",
      "metadata": {
        "id": "4sybjUi5QXHN"
      },
      "source": [
        "**The `__init__` method**"
      ]
    },
    {
      "cell_type": "code",
      "metadata": {
        "id": "S9vR89HNQXHN"
      },
      "source": [
        "class Student():\n",
        "    def __init__(self, courses, age, sex):\n",
        "        \"\"\"\n",
        "        What the class should do when it \n",
        "        is used to create an instance\n",
        "        \"\"\"\n",
        "        self.courses = courses\n",
        "        self.age = age\n",
        "        self.sex = sex\n",
        "\n",
        "    def have_a_birthday(self):\n",
        "        self.age += 1"
      ],
      "execution_count": null,
      "outputs": []
    },
    {
      "cell_type": "code",
      "metadata": {
        "id": "vOWbC9RTQXHN"
      },
      "source": [
        "vince = Student([\"Biology\",\"Math\"],28,\"Male\")\n",
        "vince.courses, vince.age, vince.sex"
      ],
      "execution_count": null,
      "outputs": []
    },
    {
      "cell_type": "markdown",
      "metadata": {
        "id": "JO4h381KQXHO"
      },
      "source": [
        "**Inheritance**"
      ]
    },
    {
      "cell_type": "markdown",
      "metadata": {
        "id": "aO4V5LrXQXHO"
      },
      "source": [
        "**We can use a class to create new classes:**"
      ]
    },
    {
      "cell_type": "code",
      "metadata": {
        "id": "cYSCGbFIQXHO"
      },
      "source": [
        "class Math_Student(Student):\n",
        "    \"\"\"\n",
        "    A Math student: behaves exactly like a Student \n",
        "    but also has a favourite class attribute.\n",
        "    \"\"\"\n",
        "    favourite_class = \"Mathematics\""
      ],
      "execution_count": null,
      "outputs": []
    },
    {
      "cell_type": "code",
      "metadata": {
        "id": "01aIuFzSQXHO"
      },
      "source": [
        "becky = Math_Student([\"Mathematics\", \"Biology\"], 29, \"Female\")\n",
        "becky.courses, becky.age, becky.sex, becky.favourite_class"
      ],
      "execution_count": null,
      "outputs": []
    },
    {
      "cell_type": "code",
      "metadata": {
        "id": "1bPtZG1pQXHO"
      },
      "source": [
        "#This class has the methods of the parent class:\n",
        "becky.have_a_birthday()\n",
        "becky.age"
      ],
      "execution_count": null,
      "outputs": []
    },
    {
      "cell_type": "markdown",
      "metadata": {
        "id": "e2CHGaDeQXHO"
      },
      "source": [
        "[Back to top](#top)"
      ]
    },
    {
      "cell_type": "code",
      "metadata": {
        "id": "ZBA-q75USJfB"
      },
      "source": [
        ""
      ],
      "execution_count": null,
      "outputs": []
    }
  ]
}