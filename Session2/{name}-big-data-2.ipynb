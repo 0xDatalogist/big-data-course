{
 "cells": [
  {
   "cell_type": "markdown",
   "metadata": {},
   "source": [
    "# Assignment on Programming Techniques for Big Data\n",
    "\n",
    "Functional programming is the basis of most modern Big Data processing systems.\n",
    "Before going forward to the course, it is important to master data processing\n",
    "techniques using a functional programming style. In this assignment, your task \n",
    "is to train yourselves in thinking in a functional way when processing data. \n",
    "\n",
    "Many of the the tasks below are easy, but some are not and require many\n",
    "iterations (and extensive testing!) to get right. For some of them, you\n",
    "can find ready-made solutions on the internet. Even though it may be tempting,\n",
    "I advise you against copying and pasting them here, as you will regret it\n",
    "later on in the course.\n",
    "\n",
    "\n",
    "This assignment has a total of *115* points. Your grade is calculated with `min(points/10, 10)`, i.e. you only need 100 points for a 10. A few notes:\n",
    "\n",
    "* For each function you define, you also need to define at least one working example.\n",
    "* Do not change the given function signatures.\n",
    "* Use functional programming for every question (besides the first section)."
   ]
  },
  {
   "cell_type": "markdown",
   "metadata": {},
   "source": [
    "## Foundations of functional programming\n",
    "\n",
    "In this part you will implement core functions that are vital to functional programming."
   ]
  },
  {
   "cell_type": "markdown",
   "metadata": {},
   "source": [
    "**T** (5pts): Implement `map` using iteration for lists/arrays"
   ]
  },
  {
   "cell_type": "code",
   "execution_count": null,
   "metadata": {},
   "outputs": [],
   "source": [
    "def map(func, xs):\n",
    "    pass\n",
    "\n",
    "map(lambda x: x*2, range(7))"
   ]
  },
  {
   "cell_type": "markdown",
   "metadata": {},
   "source": [
    "**T** (5pts): Implement `filter` using iteration for lists/arrays"
   ]
  },
  {
   "cell_type": "code",
   "execution_count": null,
   "metadata": {},
   "outputs": [],
   "source": [
    "def filter(func, xs):\n",
    "    pass\n",
    "\n",
    "filter(lambda x: x % 2 == 0, range(7))"
   ]
  },
  {
   "cell_type": "markdown",
   "metadata": {},
   "source": [
    "**T** (5pts): Implement `reduceR` using iteration for lists/arrays"
   ]
  },
  {
   "cell_type": "code",
   "execution_count": null,
   "metadata": {},
   "outputs": [],
   "source": [
    "def reduceR(func, xs, init):\n",
    "    pass\n",
    "\n",
    "reduceR(lambda x, y: x-y, range(7), 0)"
   ]
  },
  {
   "cell_type": "markdown",
   "metadata": {},
   "source": [
    "**T** (5pts): Implement a function `flatten(xs: [[A]]): [A]` that converts a list of \n",
    "lists into a list formed by the elements of these lists. For example:\n",
    "\n",
    "```python\n",
    ">>> a = [[1,2],[2,3],[3,[4]]]\n",
    ">>> flatten(a)\n",
    "[1,2,2,3,3,[4]]\n",
    "```"
   ]
  },
  {
   "cell_type": "code",
   "execution_count": null,
   "metadata": {},
   "outputs": [],
   "source": [
    "def flatten(xss):\n",
    "    pass\n",
    "\n",
    "\n",
    "flatten([[1,2,3],[4,5], [7,[8,9]]])"
   ]
  },
  {
   "cell_type": "markdown",
   "metadata": {},
   "source": [
    "## More basic functions\n",
    "\n",
    "In every implementation from now (also in next steps)on you should reuse at least one of your answers to an earlier question."
   ]
  },
  {
   "cell_type": "markdown",
   "metadata": {},
   "source": [
    "**T** (5pts): Implement `reduceL` by reusing `reduceR`"
   ]
  },
  {
   "cell_type": "code",
   "execution_count": null,
   "metadata": {},
   "outputs": [],
   "source": [
    "def reduceL(func, xs, init):\n",
    "    pass\n",
    "\n",
    "reduceL(lambda x, y: x-y, range(7), 0)"
   ]
  },
  {
   "cell_type": "markdown",
   "metadata": {},
   "source": [
    "**T** (10pts): Implement `group_by` by reusing `reduceL`."
   ]
  },
  {
   "cell_type": "code",
   "execution_count": null,
   "metadata": {},
   "outputs": [],
   "source": [
    "def group_by(classifier, xs):\n",
    "    pass\n",
    "        \n",
    "group_by(lambda x: \"even\" if x % 2 == 0 else \"odd\", range(10))"
   ]
  },
  {
   "cell_type": "markdown",
   "metadata": {},
   "source": [
    "## Simple data processing\n",
    "\n"
   ]
  },
  {
   "cell_type": "markdown",
   "metadata": {},
   "source": [
    "**T** (5pts): Implement `distinct` using `reduceL`. Also provide its function signature."
   ]
  },
  {
   "cell_type": "code",
   "execution_count": null,
   "metadata": {},
   "outputs": [],
   "source": [
    "# distinct(xs:[A]): [A]\n",
    "def distinct(xs):\n",
    "    pass\n",
    "\n",
    "a = [1,2,3,1,2,3,4,5,6,5,4,3,2,1]\n",
    "distinct(a)"
   ]
  },
  {
   "cell_type": "markdown",
   "metadata": {},
   "source": [
    "**T** (5pts): Implement `flatmap` and provide its function signature."
   ]
  },
  {
   "cell_type": "code",
   "execution_count": null,
   "metadata": {
    "scrolled": true
   },
   "outputs": [],
   "source": [
    "# flatmap(func: A -> [B], [A]): [B]\n",
    "def flatmap(func, xs):\n",
    "    pass\n",
    "\n",
    "flatmap(lambda x: list(range(x)), range(5))"
   ]
  },
  {
   "cell_type": "markdown",
   "metadata": {},
   "source": [
    "**T** (5pts): Implement `max(xs: [Integer]): Integer` that finds the largest value in `xs`. You can assume the list is non-empty."
   ]
  },
  {
   "cell_type": "code",
   "execution_count": null,
   "metadata": {},
   "outputs": [],
   "source": [
    "def max(xs):\n",
    "    pass\n",
    "\n",
    "max([1,59,42,27,38])"
   ]
  },
  {
   "cell_type": "markdown",
   "metadata": {},
   "source": [
    "## Higher-order functions\n",
    "\n",
    "\n",
    "**T** (10pts): Implement a function called `drop_while(f: A -> Boolean, xs: [A]) : [A]` \n",
    "that drops the longest prefix of elements from `xs` that satisfy `f`.\n",
    "\n",
    "```python\n",
    ">>> a = [1,2,3,4,5,6]\n",
    ">>> dropWhile(lambda x: x <= 3, a)\n",
    "[4,5,6]\n",
    "```"
   ]
  },
  {
   "cell_type": "code",
   "execution_count": null,
   "metadata": {},
   "outputs": [],
   "source": [
    "def drop_while(func, xs):\n",
    "    pass\n",
    "\n",
    "drop_while(lambda x: x <= 3, [1,2,1,3,5,3,1,4,1,5,6])"
   ]
  },
  {
   "cell_type": "markdown",
   "metadata": {},
   "source": [
    "**T** (10pts): Implement a function `zip(xs: [A], ys: [B]): List[(A,B)]` that returns a list formed from this list and another list by combining the corresponding elements in pairs. If one of the two lists is longer \n",
    "than the other, its remaining elements are ignored. \n",
    "\n",
    "```python\n",
    ">>> a = [1,2,3,4]\n",
    ">>> b = [a,b,c,d,e]\n",
    ">>> zip(a,b)\n",
    "[(1, 'a'), (2, 'b'), (3, 'c'), (4,'d')]\n",
    "```"
   ]
  },
  {
   "cell_type": "code",
   "execution_count": null,
   "metadata": {
    "scrolled": true
   },
   "outputs": [],
   "source": [
    "def zip(xs, ys):\n",
    "    pass\n",
    "    \n",
    "a = [2,3,4]\n",
    "b = ['a','b','c','d']\n",
    "zip(a,b)"
   ]
  },
  {
   "cell_type": "markdown",
   "metadata": {},
   "source": [
    "**T** (10pts): Implement a function \n",
    "`scanL(f: (acc: B, x: A) -> B, xs: [A], init: B) -> [B]`\n",
    "that works like `reduceL` but instead of producing one final result, it also\n",
    "returns all the intermediate results.\n",
    "\n",
    "```python\n",
    ">>> a = [2,3,4]\n",
    ">>> scanL(a, 0, lambda x, y: x + y)\n",
    "[0, 2, 5, 9]\n",
    "```"
   ]
  },
  {
   "cell_type": "code",
   "execution_count": null,
   "metadata": {},
   "outputs": [],
   "source": [
    "def scanL(func, xs, init):\n",
    "    pass\n",
    "    \n",
    "scanL(lambda x, y: x + y, [2,3,4], 0)"
   ]
  },
  {
   "cell_type": "markdown",
   "metadata": {},
   "source": [
    "## Real life application\n",
    "\n",
    "In the following questions you will solve realistic problems with the techniques you learned in this assignment. You will be working with data of San Francisco Library patrons. You can find the data file on Brightspace. Below you can find what each field means.\n",
    "\n",
    "* Id: Id of patron\n",
    "* Patron Type Definition: Description of patron (adult, teen, child, senior, etc.).\n",
    "* Total Checkouts: Total number of items the patron has checked out from the library since the record was created.\n",
    "* Total Renewals: Total number of times the patron has renewed checked-out items.\n",
    "* Age Range: Age ranges: 0 to 9 years, 10 to 19 years, 20 to 24 years, 25 to 34 years, 35 to 44 years, 45 to 54 years, 55 to 59 years, 60 to 64 years 65 to 74 years, 75 years and over. Some blank.\n",
    "* Home Library Definition: Description of the branch library where the patron was originally registered.\n",
    "* Circulation Active Month: Month the patron last checked out library materials, or last logged into the library’s subscription databases from a computer outside the library.\n",
    "* Circulation Active Year: Year the patron last checked out library materials, or last logged into the library’s subscription databases from a computer outside the library.\n",
    "* Notice Preference Definition: Description of the patron’s preferred method of receiving library notices.\n",
    "* Provided Email Address: Indicates whether the patron provided an email address.\n",
    "* Year Patron Registered: Year patron registered with library system. No dates prior to 2003 due to system migration.\n",
    "* Outside of County: If a patron's home address is not in San Francisco, then flagged as true, otherwise false.\n",
    "* Supervisor District: Based on patron address: San Francisco Supervisor District. Note: This is an automated field, please note that if \"Outside of County\" is true, then there will be no supervisor district. Also, if the input address was not well-formed, the supervisor district will be blank.\n",
    "\n",
    "Solve the following questions using functions you implemented earlier. The code for reading the file is already given. Hint: for testing purposes it could be beneficial to only use a small part of the dataset."
   ]
  },
  {
   "cell_type": "code",
   "execution_count": null,
   "metadata": {},
   "outputs": [],
   "source": [
    "# This snippet imports the csv file to a list of dicts\n",
    "\n",
    "import csv\n",
    "file = 'library.csv' # Change this filepath to the location of your file if necessary\n",
    "patrons = []\n",
    "try: \n",
    "    with open(file) as fh:\n",
    "        rd = csv.DictReader(fh, delimiter=',') \n",
    "        for row in rd:\n",
    "            patrons.append(row)\n",
    "except FileNotFoundError as e:\n",
    "    print(e)"
   ]
  },
  {
   "cell_type": "markdown",
   "metadata": {},
   "source": [
    "**T** (10pts) Some patrons have indicated that they want to receive notices via email, but have not provided their email address. Implement a function that outputs a list of the IDs of these patrons."
   ]
  },
  {
   "cell_type": "code",
   "execution_count": null,
   "metadata": {},
   "outputs": [],
   "source": [
    "def missing_email(xs):\n",
    "    pass\n",
    "\n",
    "missing_email(patrons)"
   ]
  },
  {
   "cell_type": "markdown",
   "metadata": {},
   "source": [
    "**T** (10pts) Implement a function that outputs the total amount of checkouts from members originally registered at a given location.\n",
    "\n",
    "```python\n",
    ">>> checkouts(patrons, \"Noe Valley/Sally Brunn\")\n",
    "1355624\n",
    "```"
   ]
  },
  {
   "cell_type": "code",
   "execution_count": null,
   "metadata": {},
   "outputs": [],
   "source": [
    "def checkouts(xs, location):\n",
    "    pass\n",
    "\n",
    "checkouts(patrons, \"Mission\")"
   ]
  },
  {
   "cell_type": "markdown",
   "metadata": {},
   "source": [
    "**T** (15pts) Implement a function that lists the number of renewals per location in a tuple. Example output for part of the dataset:\n",
    "\n",
    "```python\n",
    ">>> number_renewals(patrons)\n",
    "\n",
    "[('Presidio', 431988),\n",
    " ('Mission', 1218976)]\n",
    "```"
   ]
  },
  {
   "cell_type": "code",
   "execution_count": null,
   "metadata": {},
   "outputs": [],
   "source": [
    "def number_renewals(xs):\n",
    "    pass\n",
    "\n",
    "number_renewals(patrons)"
   ]
  }
 ],
 "metadata": {
  "kernelspec": {
   "display_name": "Python 3",
   "language": "python",
   "name": "python3"
  },
  "language_info": {
   "codemirror_mode": {
    "name": "ipython",
    "version": 3
   },
   "file_extension": ".py",
   "mimetype": "text/x-python",
   "name": "python",
   "nbconvert_exporter": "python",
   "pygments_lexer": "ipython3",
   "version": "3.8.5"
  }
 },
 "nbformat": 4,
 "nbformat_minor": 4
}
